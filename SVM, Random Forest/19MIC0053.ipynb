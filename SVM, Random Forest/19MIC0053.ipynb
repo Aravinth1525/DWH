{
 "cells": [
  {
   "cell_type": "markdown",
   "metadata": {},
   "source": [
    "<h1>Aravinth R<br>19MIC0053<br>Lab Experiment 4"
   ]
  },
  {
   "cell_type": "markdown",
   "metadata": {},
   "source": [
    "<h1>Question 1"
   ]
  },
  {
   "cell_type": "markdown",
   "metadata": {},
   "source": [
    "<h1>Support Vector Machine"
   ]
  },
  {
   "cell_type": "code",
   "execution_count": 1,
   "metadata": {},
   "outputs": [],
   "source": [
    "import numpy as np\n",
    "import pandas as pd\n",
    "import matplotlib.pyplot as p1\n",
    "from sklearn.model_selection import train_test_split\n",
    "from sklearn.svm import SVC"
   ]
  },
  {
   "cell_type": "code",
   "execution_count": 2,
   "metadata": {},
   "outputs": [
    {
     "name": "stdout",
     "output_type": "stream",
     "text": [
      "            Name  Mark_1  Mark_2 9_Pointer\n",
      "0        Pranauv      85      91       Yes\n",
      "1   Purusothaman      80      88       Yes\n",
      "2          Shyam      78      72        No\n",
      "3         Nithin      76      89        No\n",
      "4          Rohit      78      92       Yes\n",
      "5       Aravinth      76      88        No\n",
      "6         Barani      87      66        No\n",
      "7        Niketha      70      88       Yes\n",
      "8       Krithiik      88      96       Yes\n",
      "9     Kumaaravel      85      90       Yes\n",
      "10       Abishek      80      82        No\n",
      "11        Aneesh      78      81        No\n",
      "12          Ajay      76      80        No\n",
      "13          Babu      78      73        No\n",
      "14     Dhiyanesh      76      77        No\n",
      "15       Praveen      87      92       Yes\n",
      "16        Vishnu      70      80        No\n",
      "17          Bala      88      90       Yes\n",
      "18        Naveen      85      95       Yes\n",
      "19          Siva      80      78        No\n",
      "20     Prashanth      78      75        No\n",
      "21         Robin      76      77        No\n",
      "22        Sakthi      78      80        No\n",
      "23      Santhosh      76      72        No\n",
      "24        Farhan      87      93       Yes\n",
      "25        Sanjay      70      72        No\n",
      "26     Keerthana      88      97       Yes\n",
      "27         Vijay      85      95       Yes\n",
      "28        Ramesh      80      78        No\n",
      "29       Bharath      78      73        No\n",
      "30        Swetha      85      95       Yes\n",
      "31           Ram      80      78        No\n",
      "32        Rishab      78      75        No\n",
      "33         Virat      76      77        No\n",
      "34         Dhoni      78      80        No\n",
      "35    Richardson      76      72        No\n",
      "36        Bumrah      87      93       Yes\n",
      "37        Jadeja      70      72        No\n",
      "38         Smith      88      97       Yes\n",
      "39        Warner      85      95       Yes\n",
      "40        Dravid      80      78        No\n",
      "41       Maxwell      78      73        No\n",
      "42        Chahal      85      95       Yes\n",
      "43        Daniel      80      78        No\n",
      "44        Garton      78      75        No\n",
      "45         Siraj      76      77        No\n",
      "46         Gokul      78      80        No\n",
      "47         Gopal      76      72        No\n",
      "48      Padikkal      87      93       Yes\n",
      "49      Benjamin      70      72        No\n"
     ]
    }
   ],
   "source": [
    "studentrecord=pd.read_csv(\"/Users/aravinth/Desktop/Data Warehousing/Assignment 4/StudentData.csv\")\n",
    "print(studentrecord)"
   ]
  },
  {
   "cell_type": "code",
   "execution_count": 3,
   "metadata": {},
   "outputs": [
    {
     "name": "stdout",
     "output_type": "stream",
     "text": [
      "Name         Aravinth\n",
      "Mark_1             76\n",
      "Mark_2             88\n",
      "9_Pointer          No\n",
      "Name: 5, dtype: object\n"
     ]
    }
   ],
   "source": [
    "print(studentrecord.iloc[5])"
   ]
  },
  {
   "cell_type": "code",
   "execution_count": 4,
   "metadata": {},
   "outputs": [
    {
     "name": "stdout",
     "output_type": "stream",
     "text": [
      "            Name  Mark_1  Mark_2 9_Pointer\n",
      "1   Purusothaman      80      88       Yes\n",
      "2          Shyam      78      72        No\n",
      "3         Nithin      76      89        No\n",
      "4          Rohit      78      92       Yes\n",
      "5       Aravinth      76      88        No\n",
      "6         Barani      87      66        No\n",
      "7        Niketha      70      88       Yes\n",
      "8       Krithiik      88      96       Yes\n",
      "9     Kumaaravel      85      90       Yes\n",
      "10       Abishek      80      82        No\n",
      "11        Aneesh      78      81        No\n",
      "12          Ajay      76      80        No\n",
      "13          Babu      78      73        No\n",
      "14     Dhiyanesh      76      77        No\n",
      "15       Praveen      87      92       Yes\n",
      "16        Vishnu      70      80        No\n",
      "17          Bala      88      90       Yes\n",
      "18        Naveen      85      95       Yes\n",
      "19          Siva      80      78        No\n",
      "20     Prashanth      78      75        No\n",
      "21         Robin      76      77        No\n",
      "22        Sakthi      78      80        No\n"
     ]
    }
   ],
   "source": [
    "print(studentrecord.iloc[1:23])"
   ]
  },
  {
   "cell_type": "code",
   "execution_count": 5,
   "metadata": {},
   "outputs": [
    {
     "name": "stdout",
     "output_type": "stream",
     "text": [
      "            Name  Mark_1  Mark_2 9_Pointer\n",
      "0        Pranauv      85      91       Yes\n",
      "1   Purusothaman      80      88       Yes\n",
      "2          Shyam      78      72        No\n",
      "3         Nithin      76      89        No\n",
      "4          Rohit      78      92       Yes\n",
      "5       Aravinth      76      88        No\n",
      "6         Barani      87      66        No\n",
      "7        Niketha      70      88       Yes\n",
      "8       Krithiik      88      96       Yes\n",
      "9     Kumaaravel      85      90       Yes\n",
      "10       Abishek      80      82        No\n",
      "11        Aneesh      78      81        No\n",
      "12          Ajay      76      80        No\n",
      "13          Babu      78      73        No\n",
      "14     Dhiyanesh      76      77        No\n",
      "15       Praveen      87      92       Yes\n",
      "16        Vishnu      70      80        No\n",
      "17          Bala      88      90       Yes\n",
      "18        Naveen      85      95       Yes\n",
      "19          Siva      80      78        No\n",
      "20     Prashanth      78      75        No\n",
      "21         Robin      76      77        No\n",
      "22        Sakthi      78      80        No\n",
      "23      Santhosh      76      72        No\n",
      "24        Farhan      87      93       Yes\n",
      "25        Sanjay      70      72        No\n",
      "26     Keerthana      88      97       Yes\n",
      "27         Vijay      85      95       Yes\n",
      "28        Ramesh      80      78        No\n",
      "29       Bharath      78      73        No\n",
      "30        Swetha      85      95       Yes\n",
      "31           Ram      80      78        No\n",
      "32        Rishab      78      75        No\n",
      "33         Virat      76      77        No\n",
      "34         Dhoni      78      80        No\n",
      "35    Richardson      76      72        No\n",
      "36        Bumrah      87      93       Yes\n",
      "37        Jadeja      70      72        No\n",
      "38         Smith      88      97       Yes\n",
      "39        Warner      85      95       Yes\n",
      "40        Dravid      80      78        No\n",
      "41       Maxwell      78      73        No\n",
      "42        Chahal      85      95       Yes\n",
      "43        Daniel      80      78        No\n",
      "44        Garton      78      75        No\n",
      "45         Siraj      76      77        No\n",
      "46         Gokul      78      80        No\n",
      "47         Gopal      76      72        No\n",
      "48      Padikkal      87      93       Yes\n",
      "49      Benjamin      70      72        No\n"
     ]
    }
   ],
   "source": [
    "print(studentrecord.iloc[:,0:4])"
   ]
  },
  {
   "cell_type": "code",
   "execution_count": 6,
   "metadata": {},
   "outputs": [
    {
     "name": "stdout",
     "output_type": "stream",
     "text": [
      "0     85\n",
      "1     80\n",
      "2     78\n",
      "3     76\n",
      "4     78\n",
      "5     76\n",
      "6     87\n",
      "7     70\n",
      "8     88\n",
      "9     85\n",
      "10    80\n",
      "11    78\n",
      "12    76\n",
      "13    78\n",
      "14    76\n",
      "15    87\n",
      "16    70\n",
      "17    88\n",
      "18    85\n",
      "19    80\n",
      "20    78\n",
      "21    76\n",
      "22    78\n",
      "23    76\n",
      "24    87\n",
      "25    70\n",
      "26    88\n",
      "27    85\n",
      "28    80\n",
      "29    78\n",
      "30    85\n",
      "31    80\n",
      "32    78\n",
      "33    76\n",
      "34    78\n",
      "35    76\n",
      "36    87\n",
      "37    70\n",
      "38    88\n",
      "39    85\n",
      "40    80\n",
      "41    78\n",
      "42    85\n",
      "43    80\n",
      "44    78\n",
      "45    76\n",
      "46    78\n",
      "47    76\n",
      "48    87\n",
      "49    70\n",
      "Name: Mark_1, dtype: int64\n"
     ]
    }
   ],
   "source": [
    "print(studentrecord.iloc[:,1])"
   ]
  },
  {
   "cell_type": "markdown",
   "metadata": {},
   "source": [
    "<h1>Training Dataset<br>\n",
    "<h4>(80%)"
   ]
  },
  {
   "cell_type": "code",
   "execution_count": 7,
   "metadata": {},
   "outputs": [
    {
     "name": "stdout",
     "output_type": "stream",
     "text": [
      "[[76 89]\n",
      " [78 92]\n",
      " [70 72]\n",
      " [76 77]\n",
      " [76 72]\n",
      " [88 90]\n",
      " [78 73]\n",
      " [80 78]\n",
      " [85 95]\n",
      " [78 81]\n",
      " [87 93]\n",
      " [80 88]\n",
      " [85 95]\n",
      " [80 78]\n",
      " [85 91]\n",
      " [76 88]\n",
      " [85 95]\n",
      " [85 95]\n",
      " [87 92]\n",
      " [78 80]\n",
      " [78 80]\n",
      " [78 73]\n",
      " [70 88]\n",
      " [78 72]\n",
      " [88 97]\n",
      " [76 77]\n",
      " [80 78]\n",
      " [87 93]\n",
      " [70 72]\n",
      " [85 90]\n",
      " [70 80]\n",
      " [88 97]\n",
      " [78 75]\n",
      " [87 66]\n",
      " [88 96]\n",
      " [85 95]\n",
      " [80 82]\n",
      " [80 78]\n",
      " [78 73]\n",
      " [76 77]]\n"
     ]
    }
   ],
   "source": [
    "training_items, test_items= train_test_split(studentrecord,test_size=0.2)\n",
    "x_train=training_items.iloc[:,1:3].values\n",
    "print(x_train)"
   ]
  },
  {
   "cell_type": "code",
   "execution_count": 8,
   "metadata": {},
   "outputs": [
    {
     "name": "stdout",
     "output_type": "stream",
     "text": [
      "['No' 'Yes' 'No' 'No' 'No' 'Yes' 'No' 'No' 'Yes' 'No' 'Yes' 'Yes' 'Yes'\n",
      " 'No' 'Yes' 'No' 'Yes' 'Yes' 'Yes' 'No' 'No' 'No' 'Yes' 'No' 'Yes' 'No'\n",
      " 'No' 'Yes' 'No' 'Yes' 'No' 'Yes' 'No' 'No' 'Yes' 'Yes' 'No' 'No' 'No'\n",
      " 'No']\n"
     ]
    }
   ],
   "source": [
    "y_train=training_items.iloc[:,3].values\n",
    "print(y_train)"
   ]
  },
  {
   "cell_type": "code",
   "execution_count": 9,
   "metadata": {},
   "outputs": [
    {
     "name": "stdout",
     "output_type": "stream",
     "text": [
      "[[78 75]\n",
      " [76 80]\n",
      " [76 72]\n",
      " [70 72]\n",
      " [80 78]\n",
      " [76 72]\n",
      " [78 75]\n",
      " [87 93]\n",
      " [76 77]\n",
      " [78 80]]\n"
     ]
    }
   ],
   "source": [
    "x_test=test_items.iloc[:,1:3].values\n",
    "print(x_test)"
   ]
  },
  {
   "cell_type": "code",
   "execution_count": 10,
   "metadata": {},
   "outputs": [
    {
     "name": "stdout",
     "output_type": "stream",
     "text": [
      "['No' 'No' 'No' 'No' 'No' 'No' 'No' 'Yes' 'No' 'No']\n"
     ]
    }
   ],
   "source": [
    "y_test=test_items.iloc[:,3].values\n",
    "print(y_test)"
   ]
  },
  {
   "cell_type": "markdown",
   "metadata": {},
   "source": [
    "<h1>Prediction for 9 pointer or not"
   ]
  },
  {
   "cell_type": "code",
   "execution_count": 11,
   "metadata": {},
   "outputs": [
    {
     "data": {
      "text/plain": [
       "array(['No'], dtype=object)"
      ]
     },
     "execution_count": 11,
     "metadata": {},
     "output_type": "execute_result"
    }
   ],
   "source": [
    "c1=SVC(kernel='linear')\n",
    "c1.fit(x_train,y_train)\n",
    "c1.predict([[78,67]])"
   ]
  },
  {
   "cell_type": "code",
   "execution_count": 12,
   "metadata": {},
   "outputs": [
    {
     "data": {
      "text/plain": [
       "array(['Yes'], dtype=object)"
      ]
     },
     "execution_count": 12,
     "metadata": {},
     "output_type": "execute_result"
    }
   ],
   "source": [
    "c1.predict([[91,90]])"
   ]
  },
  {
   "cell_type": "code",
   "execution_count": 13,
   "metadata": {},
   "outputs": [
    {
     "data": {
      "text/plain": [
       "array(['Yes'], dtype=object)"
      ]
     },
     "execution_count": 13,
     "metadata": {},
     "output_type": "execute_result"
    }
   ],
   "source": [
    "c1.predict([[88,91]])"
   ]
  },
  {
   "cell_type": "code",
   "execution_count": 14,
   "metadata": {},
   "outputs": [
    {
     "data": {
      "text/plain": [
       "array(['No'], dtype=object)"
      ]
     },
     "execution_count": 14,
     "metadata": {},
     "output_type": "execute_result"
    }
   ],
   "source": [
    "c1.predict([[70,67]])"
   ]
  },
  {
   "cell_type": "markdown",
   "metadata": {},
   "source": [
    "<h1>Question 2"
   ]
  },
  {
   "cell_type": "markdown",
   "metadata": {},
   "source": [
    "<h1>Decision Tree Algorithm"
   ]
  },
  {
   "cell_type": "code",
   "execution_count": 15,
   "metadata": {},
   "outputs": [],
   "source": [
    "from sklearn.tree import DecisionTreeClassifier\n",
    "from sklearn import tree"
   ]
  },
  {
   "cell_type": "code",
   "execution_count": 16,
   "metadata": {},
   "outputs": [
    {
     "name": "stdout",
     "output_type": "stream",
     "text": [
      "            Name  Experience  Salary Exp_Level Salary_level Eligible_For_Loan\n",
      "0        Pranauv           5   30000    Medium       Medium               Yes\n",
      "1   Purusothaman           3   25000       Low          Low                No\n",
      "2          Shyam           7   60000      High         High               Yes\n",
      "3         Nithin           3   40000       Low       Medium               Yes\n",
      "4          Rohit           3   25000       Low          Low                No\n",
      "5       Aravinth           5   45000    Medium       Medium               Yes\n",
      "6         Barani           4   35000    Medium       Medium               Yes\n",
      "7        Niketha           2   20000       Low          Low                No\n",
      "8       Krithiik           5   28000    Medium       Medium                No\n",
      "9     Kumaaravel           3   55000       Low         High               Yes\n",
      "10       Abishek           7   65000      High         High               Yes\n",
      "11        Aneesh           3   48000       Low       Medium               Yes\n",
      "12          Ajay           3   25000       Low          Low                No\n",
      "13          Babu           5   45000    Medium       Medium               Yes\n",
      "14     Dhiyanesh           4   40000    Medium       Medium               Yes\n",
      "15       Praveen           2   27000       Low          Low                No\n",
      "16        Vishnu           5   30000    Medium       Medium               Yes\n",
      "17          Bala           3   50000       Low         High               Yes\n",
      "18        Naveen           7   48000      High       Medium               Yes\n",
      "19          Siva           3   40000       Low       Medium               Yes\n",
      "20     Prashanth           3   30000       Low       Medium                No\n",
      "21         Robin           5   25000    Medium          Low                No\n",
      "22        Sakthi           4   67000    Medium         High               Yes\n",
      "23      Santhosh           2   60000       Low         High               Yes\n",
      "24        Farhan           5   47000    Medium       Medium               Yes\n",
      "25        Sanjay           3   45000       Low       Medium               Yes\n",
      "26     Keerthana           7   70000      High         High               Yes\n",
      "27         Vijay           3   50000       Low         High               Yes\n",
      "28        Ramesh           3   30000       Low       Medium                No\n",
      "29       Bharath           5   20000    Medium          Low                No\n",
      "30        Swetha           5   24000    Medium          Low                No\n",
      "31           Ram           3   45000       Low       Medium               Yes\n",
      "32        Rishab           7   38000      High       Medium               Yes\n",
      "33         Virat           8   75000      High         High               Yes\n",
      "34         Dhoni           7   68000      High         High               Yes\n",
      "35    Richardson           5   29000    Medium          Low                No\n",
      "36        Bumrah           4   56000    Medium         High               Yes\n",
      "37        Jadeja           2   20000       Low          Low                No\n",
      "38         Smith           5   40000    Medium       Medium               Yes\n",
      "39        Warner           3   34000       Low       Medium               Yes\n",
      "40        Dravid           7   70000      High         High               Yes\n",
      "41       Maxwell           3   45000       Low       Medium               Yes\n",
      "42        Chahal           3   25000       Low          Low                No\n",
      "43        Daniel           5   40000    Medium       Medium               Yes\n",
      "44        Garton           4   20000    Medium          Low                No\n",
      "45         Siraj           2   55000       Low         High               Yes\n",
      "46         Gokul           5   32000    Medium       Medium               Yes\n",
      "47         Gopal           3   25000       Low          Low                No\n",
      "48      Padikkal           7   26000      High          Low                No\n",
      "49      Benjamin           3   45000       Low       Medium               Yes\n"
     ]
    }
   ],
   "source": [
    "salarydata=pd.read_csv(\"/Users/aravinth/Desktop/Data Warehousing/Assignment 4/SalaryData.csv\")\n",
    "print(salarydata)"
   ]
  },
  {
   "cell_type": "code",
   "execution_count": 17,
   "metadata": {},
   "outputs": [
    {
     "name": "stdout",
     "output_type": "stream",
     "text": [
      "            Name  Experience  Salary  Exp_Level Salary_level Eligible_For_Loan\n",
      "0        Pranauv           5   30000          1       Medium               Yes\n",
      "1   Purusothaman           3   25000          0          Low                No\n",
      "2          Shyam           7   60000          2         High               Yes\n",
      "3         Nithin           3   40000          0       Medium               Yes\n",
      "4          Rohit           3   25000          0          Low                No\n",
      "5       Aravinth           5   45000          1       Medium               Yes\n",
      "6         Barani           4   35000          1       Medium               Yes\n",
      "7        Niketha           2   20000          0          Low                No\n",
      "8       Krithiik           5   28000          1       Medium                No\n",
      "9     Kumaaravel           3   55000          0         High               Yes\n",
      "10       Abishek           7   65000          2         High               Yes\n",
      "11        Aneesh           3   48000          0       Medium               Yes\n",
      "12          Ajay           3   25000          0          Low                No\n",
      "13          Babu           5   45000          1       Medium               Yes\n",
      "14     Dhiyanesh           4   40000          1       Medium               Yes\n",
      "15       Praveen           2   27000          0          Low                No\n",
      "16        Vishnu           5   30000          1       Medium               Yes\n",
      "17          Bala           3   50000          0         High               Yes\n",
      "18        Naveen           7   48000          2       Medium               Yes\n",
      "19          Siva           3   40000          0       Medium               Yes\n",
      "20     Prashanth           3   30000          0       Medium                No\n",
      "21         Robin           5   25000          1          Low                No\n",
      "22        Sakthi           4   67000          1         High               Yes\n",
      "23      Santhosh           2   60000          0         High               Yes\n",
      "24        Farhan           5   47000          1       Medium               Yes\n",
      "25        Sanjay           3   45000          0       Medium               Yes\n",
      "26     Keerthana           7   70000          2         High               Yes\n",
      "27         Vijay           3   50000          0         High               Yes\n",
      "28        Ramesh           3   30000          0       Medium                No\n",
      "29       Bharath           5   20000          1          Low                No\n",
      "30        Swetha           5   24000          1          Low                No\n",
      "31           Ram           3   45000          0       Medium               Yes\n",
      "32        Rishab           7   38000          2       Medium               Yes\n",
      "33         Virat           8   75000          2         High               Yes\n",
      "34         Dhoni           7   68000          2         High               Yes\n",
      "35    Richardson           5   29000          1          Low                No\n",
      "36        Bumrah           4   56000          1         High               Yes\n",
      "37        Jadeja           2   20000          0          Low                No\n",
      "38         Smith           5   40000          1       Medium               Yes\n",
      "39        Warner           3   34000          0       Medium               Yes\n",
      "40        Dravid           7   70000          2         High               Yes\n",
      "41       Maxwell           3   45000          0       Medium               Yes\n",
      "42        Chahal           3   25000          0          Low                No\n",
      "43        Daniel           5   40000          1       Medium               Yes\n",
      "44        Garton           4   20000          1          Low                No\n",
      "45         Siraj           2   55000          0         High               Yes\n",
      "46         Gokul           5   32000          1       Medium               Yes\n",
      "47         Gopal           3   25000          0          Low                No\n",
      "48      Padikkal           7   26000          2          Low                No\n",
      "49      Benjamin           3   45000          0       Medium               Yes\n"
     ]
    }
   ],
   "source": [
    "y={'Low':0,'Medium':1,'High':2}\n",
    "salarydata['Exp_Level']=salarydata['Exp_Level'].map(y)\n",
    "print(salarydata)"
   ]
  },
  {
   "cell_type": "code",
   "execution_count": 18,
   "metadata": {},
   "outputs": [
    {
     "name": "stdout",
     "output_type": "stream",
     "text": [
      "            Name  Experience  Salary  Exp_Level  Salary_level  \\\n",
      "0        Pranauv           5   30000          1             1   \n",
      "1   Purusothaman           3   25000          0             0   \n",
      "2          Shyam           7   60000          2             2   \n",
      "3         Nithin           3   40000          0             1   \n",
      "4          Rohit           3   25000          0             0   \n",
      "5       Aravinth           5   45000          1             1   \n",
      "6         Barani           4   35000          1             1   \n",
      "7        Niketha           2   20000          0             0   \n",
      "8       Krithiik           5   28000          1             1   \n",
      "9     Kumaaravel           3   55000          0             2   \n",
      "10       Abishek           7   65000          2             2   \n",
      "11        Aneesh           3   48000          0             1   \n",
      "12          Ajay           3   25000          0             0   \n",
      "13          Babu           5   45000          1             1   \n",
      "14     Dhiyanesh           4   40000          1             1   \n",
      "15       Praveen           2   27000          0             0   \n",
      "16        Vishnu           5   30000          1             1   \n",
      "17          Bala           3   50000          0             2   \n",
      "18        Naveen           7   48000          2             1   \n",
      "19          Siva           3   40000          0             1   \n",
      "20     Prashanth           3   30000          0             1   \n",
      "21         Robin           5   25000          1             0   \n",
      "22        Sakthi           4   67000          1             2   \n",
      "23      Santhosh           2   60000          0             2   \n",
      "24        Farhan           5   47000          1             1   \n",
      "25        Sanjay           3   45000          0             1   \n",
      "26     Keerthana           7   70000          2             2   \n",
      "27         Vijay           3   50000          0             2   \n",
      "28        Ramesh           3   30000          0             1   \n",
      "29       Bharath           5   20000          1             0   \n",
      "30        Swetha           5   24000          1             0   \n",
      "31           Ram           3   45000          0             1   \n",
      "32        Rishab           7   38000          2             1   \n",
      "33         Virat           8   75000          2             2   \n",
      "34         Dhoni           7   68000          2             2   \n",
      "35    Richardson           5   29000          1             0   \n",
      "36        Bumrah           4   56000          1             2   \n",
      "37        Jadeja           2   20000          0             0   \n",
      "38         Smith           5   40000          1             1   \n",
      "39        Warner           3   34000          0             1   \n",
      "40        Dravid           7   70000          2             2   \n",
      "41       Maxwell           3   45000          0             1   \n",
      "42        Chahal           3   25000          0             0   \n",
      "43        Daniel           5   40000          1             1   \n",
      "44        Garton           4   20000          1             0   \n",
      "45         Siraj           2   55000          0             2   \n",
      "46         Gokul           5   32000          1             1   \n",
      "47         Gopal           3   25000          0             0   \n",
      "48      Padikkal           7   26000          2             0   \n",
      "49      Benjamin           3   45000          0             1   \n",
      "\n",
      "   Eligible_For_Loan  \n",
      "0                Yes  \n",
      "1                 No  \n",
      "2                Yes  \n",
      "3                Yes  \n",
      "4                 No  \n",
      "5                Yes  \n",
      "6                Yes  \n",
      "7                 No  \n",
      "8                 No  \n",
      "9                Yes  \n",
      "10               Yes  \n",
      "11               Yes  \n",
      "12                No  \n",
      "13               Yes  \n",
      "14               Yes  \n",
      "15                No  \n",
      "16               Yes  \n",
      "17               Yes  \n",
      "18               Yes  \n",
      "19               Yes  \n",
      "20                No  \n",
      "21                No  \n",
      "22               Yes  \n",
      "23               Yes  \n",
      "24               Yes  \n",
      "25               Yes  \n",
      "26               Yes  \n",
      "27               Yes  \n",
      "28                No  \n",
      "29                No  \n",
      "30                No  \n",
      "31               Yes  \n",
      "32               Yes  \n",
      "33               Yes  \n",
      "34               Yes  \n",
      "35                No  \n",
      "36               Yes  \n",
      "37                No  \n",
      "38               Yes  \n",
      "39               Yes  \n",
      "40               Yes  \n",
      "41               Yes  \n",
      "42                No  \n",
      "43               Yes  \n",
      "44                No  \n",
      "45               Yes  \n",
      "46               Yes  \n",
      "47                No  \n",
      "48                No  \n",
      "49               Yes  \n"
     ]
    }
   ],
   "source": [
    "c={'Low':0,'Medium':1,'High':2}\n",
    "salarydata['Salary_level']=salarydata['Salary_level'].map(c)\n",
    "print(salarydata)"
   ]
  },
  {
   "cell_type": "markdown",
   "metadata": {},
   "source": [
    "<h1>Training Dataset"
   ]
  },
  {
   "cell_type": "code",
   "execution_count": 19,
   "metadata": {},
   "outputs": [
    {
     "name": "stdout",
     "output_type": "stream",
     "text": [
      "    Exp_Level  Salary_level\n",
      "0           1             1\n",
      "1           0             0\n",
      "2           2             2\n",
      "3           0             1\n",
      "4           0             0\n",
      "5           1             1\n",
      "6           1             1\n",
      "7           0             0\n",
      "8           1             1\n",
      "9           0             2\n",
      "10          2             2\n",
      "11          0             1\n",
      "12          0             0\n",
      "13          1             1\n",
      "14          1             1\n",
      "15          0             0\n",
      "16          1             1\n",
      "17          0             2\n",
      "18          2             1\n",
      "19          0             1\n",
      "20          0             1\n",
      "21          1             0\n",
      "22          1             2\n",
      "23          0             2\n",
      "24          1             1\n",
      "25          0             1\n",
      "26          2             2\n",
      "27          0             2\n",
      "28          0             1\n",
      "29          1             0\n",
      "30          1             0\n",
      "31          0             1\n",
      "32          2             1\n",
      "33          2             2\n",
      "34          2             2\n",
      "35          1             0\n",
      "36          1             2\n",
      "37          0             0\n",
      "38          1             1\n",
      "39          0             1\n",
      "40          2             2\n",
      "41          0             1\n",
      "42          0             0\n",
      "43          1             1\n",
      "44          1             0\n",
      "45          0             2\n",
      "46          1             1\n",
      "47          0             0\n",
      "48          2             0\n",
      "49          0             1\n",
      "0     Yes\n",
      "1      No\n",
      "2     Yes\n",
      "3     Yes\n",
      "4      No\n",
      "5     Yes\n",
      "6     Yes\n",
      "7      No\n",
      "8      No\n",
      "9     Yes\n",
      "10    Yes\n",
      "11    Yes\n",
      "12     No\n",
      "13    Yes\n",
      "14    Yes\n",
      "15     No\n",
      "16    Yes\n",
      "17    Yes\n",
      "18    Yes\n",
      "19    Yes\n",
      "20     No\n",
      "21     No\n",
      "22    Yes\n",
      "23    Yes\n",
      "24    Yes\n",
      "25    Yes\n",
      "26    Yes\n",
      "27    Yes\n",
      "28     No\n",
      "29     No\n",
      "30     No\n",
      "31    Yes\n",
      "32    Yes\n",
      "33    Yes\n",
      "34    Yes\n",
      "35     No\n",
      "36    Yes\n",
      "37     No\n",
      "38    Yes\n",
      "39    Yes\n",
      "40    Yes\n",
      "41    Yes\n",
      "42     No\n",
      "43    Yes\n",
      "44     No\n",
      "45    Yes\n",
      "46    Yes\n",
      "47     No\n",
      "48     No\n",
      "49    Yes\n",
      "Name: Eligible_For_Loan, dtype: object\n"
     ]
    }
   ],
   "source": [
    "train=['Exp_Level','Salary_level']\n",
    "x=salarydata[train]\n",
    "y=salarydata['Eligible_For_Loan']\n",
    "print(x)\n",
    "print(y)"
   ]
  },
  {
   "cell_type": "code",
   "execution_count": 20,
   "metadata": {},
   "outputs": [],
   "source": [
    "d1=DecisionTreeClassifier()\n",
    "d1=d1.fit(x,y)"
   ]
  },
  {
   "cell_type": "markdown",
   "metadata": {},
   "source": [
    "<h1>Prediction for Loan Eligibility"
   ]
  },
  {
   "cell_type": "code",
   "execution_count": 21,
   "metadata": {},
   "outputs": [
    {
     "name": "stdout",
     "output_type": "stream",
     "text": [
      "['Yes']\n"
     ]
    }
   ],
   "source": [
    "z=d1.predict([[1,2]])\n",
    "print(z)"
   ]
  },
  {
   "cell_type": "code",
   "execution_count": 22,
   "metadata": {},
   "outputs": [
    {
     "name": "stdout",
     "output_type": "stream",
     "text": [
      "['No']\n"
     ]
    }
   ],
   "source": [
    "z=d1.predict([[1,0]])\n",
    "print(z)"
   ]
  },
  {
   "cell_type": "code",
   "execution_count": 23,
   "metadata": {},
   "outputs": [
    {
     "name": "stdout",
     "output_type": "stream",
     "text": [
      "['Yes']\n"
     ]
    }
   ],
   "source": [
    "z=d1.predict([[1,1]])\n",
    "print(z)"
   ]
  },
  {
   "cell_type": "markdown",
   "metadata": {},
   "source": [
    "<h1>Support Vector Machine Algorithm"
   ]
  },
  {
   "cell_type": "code",
   "execution_count": 24,
   "metadata": {},
   "outputs": [
    {
     "name": "stdout",
     "output_type": "stream",
     "text": [
      "Name                 Aravinth\n",
      "Experience                  5\n",
      "Salary                  45000\n",
      "Exp_Level                   1\n",
      "Salary_level                1\n",
      "Eligible_For_Loan         Yes\n",
      "Name: 5, dtype: object\n"
     ]
    }
   ],
   "source": [
    "print(salarydata.iloc[5])"
   ]
  },
  {
   "cell_type": "code",
   "execution_count": 25,
   "metadata": {},
   "outputs": [
    {
     "name": "stdout",
     "output_type": "stream",
     "text": [
      "            Name  Experience  Salary  Exp_Level  Salary_level  \\\n",
      "1   Purusothaman           3   25000          0             0   \n",
      "2          Shyam           7   60000          2             2   \n",
      "3         Nithin           3   40000          0             1   \n",
      "4          Rohit           3   25000          0             0   \n",
      "5       Aravinth           5   45000          1             1   \n",
      "6         Barani           4   35000          1             1   \n",
      "7        Niketha           2   20000          0             0   \n",
      "8       Krithiik           5   28000          1             1   \n",
      "9     Kumaaravel           3   55000          0             2   \n",
      "10       Abishek           7   65000          2             2   \n",
      "11        Aneesh           3   48000          0             1   \n",
      "12          Ajay           3   25000          0             0   \n",
      "13          Babu           5   45000          1             1   \n",
      "14     Dhiyanesh           4   40000          1             1   \n",
      "15       Praveen           2   27000          0             0   \n",
      "16        Vishnu           5   30000          1             1   \n",
      "17          Bala           3   50000          0             2   \n",
      "18        Naveen           7   48000          2             1   \n",
      "19          Siva           3   40000          0             1   \n",
      "20     Prashanth           3   30000          0             1   \n",
      "21         Robin           5   25000          1             0   \n",
      "22        Sakthi           4   67000          1             2   \n",
      "\n",
      "   Eligible_For_Loan  \n",
      "1                 No  \n",
      "2                Yes  \n",
      "3                Yes  \n",
      "4                 No  \n",
      "5                Yes  \n",
      "6                Yes  \n",
      "7                 No  \n",
      "8                 No  \n",
      "9                Yes  \n",
      "10               Yes  \n",
      "11               Yes  \n",
      "12                No  \n",
      "13               Yes  \n",
      "14               Yes  \n",
      "15                No  \n",
      "16               Yes  \n",
      "17               Yes  \n",
      "18               Yes  \n",
      "19               Yes  \n",
      "20                No  \n",
      "21                No  \n",
      "22               Yes  \n"
     ]
    }
   ],
   "source": [
    "print(salarydata.iloc[1:23])"
   ]
  },
  {
   "cell_type": "code",
   "execution_count": 26,
   "metadata": {},
   "outputs": [
    {
     "name": "stdout",
     "output_type": "stream",
     "text": [
      "    Experience  Salary  Exp_Level  Salary_level Eligible_For_Loan\n",
      "0            5   30000          1             1               Yes\n",
      "1            3   25000          0             0                No\n",
      "2            7   60000          2             2               Yes\n",
      "3            3   40000          0             1               Yes\n",
      "4            3   25000          0             0                No\n",
      "5            5   45000          1             1               Yes\n",
      "6            4   35000          1             1               Yes\n",
      "7            2   20000          0             0                No\n",
      "8            5   28000          1             1                No\n",
      "9            3   55000          0             2               Yes\n",
      "10           7   65000          2             2               Yes\n",
      "11           3   48000          0             1               Yes\n",
      "12           3   25000          0             0                No\n",
      "13           5   45000          1             1               Yes\n",
      "14           4   40000          1             1               Yes\n",
      "15           2   27000          0             0                No\n",
      "16           5   30000          1             1               Yes\n",
      "17           3   50000          0             2               Yes\n",
      "18           7   48000          2             1               Yes\n",
      "19           3   40000          0             1               Yes\n",
      "20           3   30000          0             1                No\n",
      "21           5   25000          1             0                No\n",
      "22           4   67000          1             2               Yes\n",
      "23           2   60000          0             2               Yes\n",
      "24           5   47000          1             1               Yes\n",
      "25           3   45000          0             1               Yes\n",
      "26           7   70000          2             2               Yes\n",
      "27           3   50000          0             2               Yes\n",
      "28           3   30000          0             1                No\n",
      "29           5   20000          1             0                No\n",
      "30           5   24000          1             0                No\n",
      "31           3   45000          0             1               Yes\n",
      "32           7   38000          2             1               Yes\n",
      "33           8   75000          2             2               Yes\n",
      "34           7   68000          2             2               Yes\n",
      "35           5   29000          1             0                No\n",
      "36           4   56000          1             2               Yes\n",
      "37           2   20000          0             0                No\n",
      "38           5   40000          1             1               Yes\n",
      "39           3   34000          0             1               Yes\n",
      "40           7   70000          2             2               Yes\n",
      "41           3   45000          0             1               Yes\n",
      "42           3   25000          0             0                No\n",
      "43           5   40000          1             1               Yes\n",
      "44           4   20000          1             0                No\n",
      "45           2   55000          0             2               Yes\n",
      "46           5   32000          1             1               Yes\n",
      "47           3   25000          0             0                No\n",
      "48           7   26000          2             0                No\n",
      "49           3   45000          0             1               Yes\n"
     ]
    }
   ],
   "source": [
    "print(salarydata.iloc[:,1:6])"
   ]
  },
  {
   "cell_type": "code",
   "execution_count": 27,
   "metadata": {},
   "outputs": [
    {
     "name": "stdout",
     "output_type": "stream",
     "text": [
      "0          Pranauv\n",
      "1     Purusothaman\n",
      "2            Shyam\n",
      "3           Nithin\n",
      "4            Rohit\n",
      "5         Aravinth\n",
      "6           Barani\n",
      "7          Niketha\n",
      "8         Krithiik\n",
      "9       Kumaaravel\n",
      "10         Abishek\n",
      "11          Aneesh\n",
      "12            Ajay\n",
      "13            Babu\n",
      "14       Dhiyanesh\n",
      "15         Praveen\n",
      "16          Vishnu\n",
      "17            Bala\n",
      "18          Naveen\n",
      "19            Siva\n",
      "20       Prashanth\n",
      "21           Robin\n",
      "22          Sakthi\n",
      "23        Santhosh\n",
      "24          Farhan\n",
      "25          Sanjay\n",
      "26       Keerthana\n",
      "27           Vijay\n",
      "28          Ramesh\n",
      "29         Bharath\n",
      "30          Swetha\n",
      "31             Ram\n",
      "32          Rishab\n",
      "33           Virat\n",
      "34           Dhoni\n",
      "35      Richardson\n",
      "36          Bumrah\n",
      "37          Jadeja\n",
      "38           Smith\n",
      "39          Warner\n",
      "40          Dravid\n",
      "41         Maxwell\n",
      "42          Chahal\n",
      "43          Daniel\n",
      "44          Garton\n",
      "45           Siraj\n",
      "46           Gokul\n",
      "47           Gopal\n",
      "48        Padikkal\n",
      "49        Benjamin\n",
      "Name: Name, dtype: object\n"
     ]
    }
   ],
   "source": [
    "print(salarydata.iloc[:,0])"
   ]
  },
  {
   "cell_type": "markdown",
   "metadata": {},
   "source": [
    "<h1>Training Dataset"
   ]
  },
  {
   "cell_type": "code",
   "execution_count": 28,
   "metadata": {},
   "outputs": [
    {
     "name": "stdout",
     "output_type": "stream",
     "text": [
      "[[    3 48000]\n",
      " [    3 50000]\n",
      " [    2 20000]\n",
      " [    3 45000]\n",
      " [    7 65000]\n",
      " [    7 70000]\n",
      " [    5 28000]\n",
      " [    3 30000]\n",
      " [    5 30000]\n",
      " [    5 30000]\n",
      " [    3 25000]\n",
      " [    3 30000]\n",
      " [    7 38000]\n",
      " [    3 45000]\n",
      " [    2 20000]\n",
      " [    4 56000]\n",
      " [    7 26000]\n",
      " [    5 45000]\n",
      " [    4 67000]\n",
      " [    3 25000]\n",
      " [    5 47000]\n",
      " [    5 25000]\n",
      " [    5 20000]\n",
      " [    7 68000]\n",
      " [    5 29000]\n",
      " [    5 40000]\n",
      " [    4 35000]\n",
      " [    7 48000]\n",
      " [    2 27000]\n",
      " [    7 70000]\n",
      " [    2 60000]\n",
      " [    4 20000]\n",
      " [    3 50000]\n",
      " [    3 34000]\n",
      " [    5 32000]\n",
      " [    3 25000]\n",
      " [    2 55000]\n",
      " [    8 75000]\n",
      " [    5 45000]\n",
      " [    3 45000]]\n"
     ]
    }
   ],
   "source": [
    "training_items, test_items= train_test_split(salarydata,test_size=0.2)\n",
    "x_train=training_items.iloc[:,1:3].values\n",
    "print(x_train)"
   ]
  },
  {
   "cell_type": "code",
   "execution_count": 29,
   "metadata": {},
   "outputs": [
    {
     "name": "stdout",
     "output_type": "stream",
     "text": [
      "['Yes' 'Yes' 'No' 'Yes' 'Yes' 'Yes' 'No' 'No' 'Yes' 'Yes' 'No' 'No' 'Yes'\n",
      " 'Yes' 'No' 'Yes' 'No' 'Yes' 'Yes' 'No' 'Yes' 'No' 'No' 'Yes' 'No' 'Yes'\n",
      " 'Yes' 'Yes' 'No' 'Yes' 'Yes' 'No' 'Yes' 'Yes' 'Yes' 'No' 'Yes' 'Yes'\n",
      " 'Yes' 'Yes']\n"
     ]
    }
   ],
   "source": [
    "y_train=training_items.iloc[:,5].values\n",
    "print(y_train)"
   ]
  },
  {
   "cell_type": "code",
   "execution_count": 30,
   "metadata": {},
   "outputs": [
    {
     "name": "stdout",
     "output_type": "stream",
     "text": [
      "[[    5 40000]\n",
      " [    3 25000]\n",
      " [    3 45000]\n",
      " [    3 55000]\n",
      " [    4 40000]\n",
      " [    5 24000]\n",
      " [    3 25000]\n",
      " [    7 60000]\n",
      " [    3 40000]\n",
      " [    3 40000]]\n"
     ]
    }
   ],
   "source": [
    "x_test=test_items.iloc[:,1:3].values\n",
    "print(x_test)"
   ]
  },
  {
   "cell_type": "code",
   "execution_count": 31,
   "metadata": {},
   "outputs": [
    {
     "name": "stdout",
     "output_type": "stream",
     "text": [
      "['Yes' 'No' 'Yes' 'Yes' 'Yes' 'No' 'No' 'Yes' 'Yes' 'Yes']\n"
     ]
    }
   ],
   "source": [
    "y_test=test_items.iloc[:,5].values\n",
    "print(y_test)"
   ]
  },
  {
   "cell_type": "markdown",
   "metadata": {},
   "source": [
    "<h1>Prediction for Loan Eligibility"
   ]
  },
  {
   "cell_type": "code",
   "execution_count": 32,
   "metadata": {},
   "outputs": [
    {
     "name": "stdout",
     "output_type": "stream",
     "text": [
      "Eligibility for Loan ['No']\n"
     ]
    }
   ],
   "source": [
    "c2=SVC(kernel='linear')\n",
    "c2.fit(x_train,y_train)\n",
    "print(\"Eligibility for Loan\",c2.predict([[4,20000]]))"
   ]
  },
  {
   "cell_type": "code",
   "execution_count": 33,
   "metadata": {},
   "outputs": [
    {
     "name": "stdout",
     "output_type": "stream",
     "text": [
      "Eligibility for Loan ['Yes']\n"
     ]
    }
   ],
   "source": [
    "print(\"Eligibility for Loan\",c2.predict([[6,45000]]))"
   ]
  },
  {
   "cell_type": "code",
   "execution_count": 34,
   "metadata": {},
   "outputs": [
    {
     "name": "stdout",
     "output_type": "stream",
     "text": [
      "Eligibility for Loan ['No']\n"
     ]
    }
   ],
   "source": [
    "print(\"Eligibility for Loan\",c2.predict([[9,27000]]))"
   ]
  },
  {
   "cell_type": "code",
   "execution_count": 35,
   "metadata": {},
   "outputs": [
    {
     "name": "stdout",
     "output_type": "stream",
     "text": [
      "Eligibility for Loan ['Yes']\n"
     ]
    }
   ],
   "source": [
    "print(\"Eligibility for Loan\",c2.predict([[3,80000]]))"
   ]
  },
  {
   "cell_type": "markdown",
   "metadata": {},
   "source": [
    " <H1>Conclusion - Support Vector Machine Algorithm is more effective than the Decision Tree Algorithm"
   ]
  },
  {
   "cell_type": "markdown",
   "metadata": {},
   "source": [
    "<h1>Question 3"
   ]
  },
  {
   "cell_type": "markdown",
   "metadata": {},
   "source": [
    "<h1>Random forest Supervised Machine Learning Algorithm"
   ]
  },
  {
   "cell_type": "code",
   "execution_count": 36,
   "metadata": {},
   "outputs": [],
   "source": [
    "from sklearn.linear_model import LinearRegression"
   ]
  },
  {
   "cell_type": "code",
   "execution_count": 37,
   "metadata": {},
   "outputs": [
    {
     "name": "stdout",
     "output_type": "stream",
     "text": [
      "    Month  Expenses\n",
      "0       1      3000\n",
      "1       2      2500\n",
      "2       3      4000\n",
      "3       4      3400\n",
      "4       5      2600\n",
      "5       6      4800\n",
      "6       7      6010\n",
      "7       8      3010\n",
      "8       9      2341\n",
      "9      10      3671\n",
      "10     11      2631\n",
      "11     12      4875\n",
      "12     13      5231\n",
      "13     14      3451\n",
      "14     15      3214\n",
      "15     16      5311\n",
      "16     17      2341\n",
      "17     18      4213\n",
      "18     19      3215\n",
      "19     20      6421\n",
      "20     21      2341\n",
      "21     22      3321\n",
      "22     23      2245\n",
      "23     24      5567\n",
      "24     25      3451\n"
     ]
    }
   ],
   "source": [
    "data = pd.read_csv(\"/Users/aravinth/Desktop/Data Warehousing/expensesMonthly.csv\")\n",
    "print(data)"
   ]
  },
  {
   "cell_type": "code",
   "execution_count": 38,
   "metadata": {},
   "outputs": [
    {
     "data": {
      "text/html": [
       "<div>\n",
       "<style scoped>\n",
       "    .dataframe tbody tr th:only-of-type {\n",
       "        vertical-align: middle;\n",
       "    }\n",
       "\n",
       "    .dataframe tbody tr th {\n",
       "        vertical-align: top;\n",
       "    }\n",
       "\n",
       "    .dataframe thead th {\n",
       "        text-align: right;\n",
       "    }\n",
       "</style>\n",
       "<table border=\"1\" class=\"dataframe\">\n",
       "  <thead>\n",
       "    <tr style=\"text-align: right;\">\n",
       "      <th></th>\n",
       "      <th>Month</th>\n",
       "      <th>Expenses</th>\n",
       "    </tr>\n",
       "  </thead>\n",
       "  <tbody>\n",
       "    <tr>\n",
       "      <th>0</th>\n",
       "      <td>1</td>\n",
       "      <td>3000</td>\n",
       "    </tr>\n",
       "    <tr>\n",
       "      <th>1</th>\n",
       "      <td>2</td>\n",
       "      <td>2500</td>\n",
       "    </tr>\n",
       "    <tr>\n",
       "      <th>2</th>\n",
       "      <td>3</td>\n",
       "      <td>4000</td>\n",
       "    </tr>\n",
       "    <tr>\n",
       "      <th>3</th>\n",
       "      <td>4</td>\n",
       "      <td>3400</td>\n",
       "    </tr>\n",
       "    <tr>\n",
       "      <th>4</th>\n",
       "      <td>5</td>\n",
       "      <td>2600</td>\n",
       "    </tr>\n",
       "    <tr>\n",
       "      <th>5</th>\n",
       "      <td>6</td>\n",
       "      <td>4800</td>\n",
       "    </tr>\n",
       "    <tr>\n",
       "      <th>6</th>\n",
       "      <td>7</td>\n",
       "      <td>6010</td>\n",
       "    </tr>\n",
       "    <tr>\n",
       "      <th>7</th>\n",
       "      <td>8</td>\n",
       "      <td>3010</td>\n",
       "    </tr>\n",
       "    <tr>\n",
       "      <th>8</th>\n",
       "      <td>9</td>\n",
       "      <td>2341</td>\n",
       "    </tr>\n",
       "    <tr>\n",
       "      <th>9</th>\n",
       "      <td>10</td>\n",
       "      <td>3671</td>\n",
       "    </tr>\n",
       "  </tbody>\n",
       "</table>\n",
       "</div>"
      ],
      "text/plain": [
       "   Month  Expenses\n",
       "0      1      3000\n",
       "1      2      2500\n",
       "2      3      4000\n",
       "3      4      3400\n",
       "4      5      2600\n",
       "5      6      4800\n",
       "6      7      6010\n",
       "7      8      3010\n",
       "8      9      2341\n",
       "9     10      3671"
      ]
     },
     "execution_count": 38,
     "metadata": {},
     "output_type": "execute_result"
    }
   ],
   "source": [
    "data.head(10)"
   ]
  },
  {
   "cell_type": "code",
   "execution_count": 39,
   "metadata": {},
   "outputs": [
    {
     "name": "stdout",
     "output_type": "stream",
     "text": [
      "[[ 1]\n",
      " [ 2]\n",
      " [ 3]\n",
      " [ 4]\n",
      " [ 5]\n",
      " [ 6]\n",
      " [ 7]\n",
      " [ 8]\n",
      " [ 9]\n",
      " [10]\n",
      " [11]\n",
      " [12]\n",
      " [13]\n",
      " [14]\n",
      " [15]\n",
      " [16]\n",
      " [17]\n",
      " [18]\n",
      " [19]\n",
      " [20]\n",
      " [21]\n",
      " [22]\n",
      " [23]\n",
      " [24]\n",
      " [25]]\n",
      "[3000 2500 4000 3400 2600 4800 6010 3010 2341 3671 2631 4875 5231 3451\n",
      " 3214 5311 2341 4213 3215 6421 2341 3321 2245 5567 3451]\n"
     ]
    }
   ],
   "source": [
    "x = data.iloc[:, 0:1].values \n",
    "y = data.iloc[:, 1].values\n",
    "print(x)\n",
    "print(y)"
   ]
  },
  {
   "cell_type": "code",
   "execution_count": 40,
   "metadata": {},
   "outputs": [
    {
     "data": {
      "text/plain": [
       "RandomForestRegressor(random_state=0)"
      ]
     },
     "execution_count": 40,
     "metadata": {},
     "output_type": "execute_result"
    }
   ],
   "source": [
    "from sklearn.ensemble import RandomForestRegressor\n",
    "regressor = RandomForestRegressor(n_estimators = 100, random_state = 0) \n",
    "regressor.fit(x, y)"
   ]
  },
  {
   "cell_type": "code",
   "execution_count": 41,
   "metadata": {},
   "outputs": [],
   "source": [
    "x_train, x_test, y_train, y_test = train_test_split(x, y, test_size=0.2, random_state=0)"
   ]
  },
  {
   "cell_type": "code",
   "execution_count": 42,
   "metadata": {},
   "outputs": [],
   "source": [
    "from sklearn.preprocessing import StandardScaler\n",
    "sc = StandardScaler()\n",
    "x_train = sc.fit_transform(x_train)\n",
    "x_test = sc.transform(x_test)"
   ]
  },
  {
   "cell_type": "code",
   "execution_count": 43,
   "metadata": {},
   "outputs": [
    {
     "data": {
      "image/png": "[encoded data removed]",
      "text/plain": [
       "<Figure size 432x288 with 1 Axes>"
      ]
     },
     "metadata": {
      "needs_background": "light"
     },
     "output_type": "display_data"
    }
   ],
   "source": [
    "X_grid = np.arange(min(x), max(x), 0.01) \n",
    "X_grid = X_grid.reshape((len(X_grid), 1))\n",
    "p1.scatter(x, y)\n",
    "p1.plot(X_grid, regressor.predict(X_grid),color = 'r')\n",
    "p1.xlabel('Month') \n",
    "p1.ylabel('Expenses')\n",
    "p1.show()"
   ]
  }
 ],
 "metadata": {
  "interpreter": {
   "hash": "aee8b7b246df8f9039afb4144a1f6fd8d2ca17a180786b69acc140d282b71a49"
  },
  "kernelspec": {
   "display_name": "Python 3.9.6 64-bit",
   "name": "python3"
  },
  "language_info": {
   "codemirror_mode": {
    "name": "ipython",
    "version": 3
   },
   "file_extension": ".py",
   "mimetype": "text/x-python",
   "name": "python",
   "nbconvert_exporter": "python",
   "pygments_lexer": "ipython3",
   "version": "3.9.6"
  },
  "orig_nbformat": 4
 },
 "nbformat": 4,
 "nbformat_minor": 2
}
