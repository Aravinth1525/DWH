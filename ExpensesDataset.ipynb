{
    "cells": [
        {
            "cell_type": "code",
            "execution_count": 12,
            "metadata": {},
            "outputs": [],
            "source": [
                "import numpy as np\n",
                "import pandas as pd"
            ]
        },
        {
            "cell_type": "code",
            "execution_count": 13,
            "metadata": {},
            "outputs": [
                {
                    "name": "stdout",
                    "output_type": "stream",
                    "text": [
                        "    Month  Expenses\n",
                        "0       1      3000\n",
                        "1       2      2500\n",
                        "2       3      4000\n",
                        "3       4      3400\n",
                        "4       5      2600\n",
                        "5       6      4800\n",
                        "6       7      6010\n",
                        "7       8      3010\n",
                        "8       9      2341\n",
                        "9      10      3671\n",
                        "10     11      2631\n",
                        "11     12      4875\n",
                        "12     13      5231\n",
                        "13     14      3451\n",
                        "14     15      3214\n",
                        "15     16      5311\n",
                        "16     17      2341\n",
                        "17     18      4213\n",
                        "18     19      3215\n",
                        "19     20      6421\n",
                        "20     21      2341\n",
                        "21     22      3321\n",
                        "22     23      2245\n",
                        "23     24      5567\n",
                        "24     25      3451\n"
                    ]
                }
            ],
            "source": [
                "data=pd.read_csv(\"/Users/aravinth/Downloads/expensesMonthly.csv\")\n",
                "print(data)"
            ]
        },
        {
            "cell_type": "code",
            "execution_count": 14,
            "metadata": {},
            "outputs": [
                {
                    "name": "stdout",
                    "output_type": "stream",
                    "text": [
                        "0      1\n",
                        "1      2\n",
                        "2      3\n",
                        "3      4\n",
                        "4      5\n",
                        "5      6\n",
                        "6      7\n",
                        "7      8\n",
                        "8      9\n",
                        "9     10\n",
                        "10    11\n",
                        "11    12\n",
                        "12    13\n",
                        "13    14\n",
                        "14    15\n",
                        "15    16\n",
                        "16    17\n",
                        "17    18\n",
                        "18    19\n",
                        "19    20\n",
                        "20    21\n",
                        "21    22\n",
                        "22    23\n",
                        "23    24\n",
                        "24    25\n",
                        "Name: Month, dtype: int64\n"
                    ]
                }
            ],
            "source": [
                "mon=data.Month\n",
                "print(mon)"
            ]
        },
        {
            "cell_type": "code",
            "execution_count": 15,
            "metadata": {},
            "outputs": [
                {
                    "name": "stdout",
                    "output_type": "stream",
                    "text": [
                        "    Month  Expenses\n",
                        "20     21      2341\n",
                        "21     22      3321\n",
                        "22     23      2245\n",
                        "23     24      5567\n",
                        "24     25      3451\n"
                    ]
                }
            ],
            "source": [
                "print(data[-5:])"
            ]
        },
        {
            "cell_type": "code",
            "execution_count": 16,
            "metadata": {},
            "outputs": [
                {
                    "name": "stdout",
                    "output_type": "stream",
                    "text": [
                        "(25, 2)\n"
                    ]
                }
            ],
            "source": [
                "print(data.shape)"
            ]
        },
        {
            "cell_type": "code",
            "execution_count": 17,
            "metadata": {},
            "outputs": [
                {
                    "name": "stdout",
                    "output_type": "stream",
                    "text": [
                        "Maximum 6421\n",
                        "Minimum 2245\n"
                    ]
                }
            ],
            "source": [
                "print(\"Maximum\",max(data.Expenses))\n",
                "print(\"Minimum\",min(data.Expenses))"
            ]
        },
        {
            "cell_type": "code",
            "execution_count": 18,
            "metadata": {},
            "outputs": [
                {
                    "name": "stdout",
                    "output_type": "stream",
                    "text": [
                        "Mean is 3726.4\n"
                    ]
                }
            ],
            "source": [
                "print(\"Mean is\",np.mean(data.Expenses))"
            ]
        },
        {
            "cell_type": "code",
            "execution_count": 19,
            "metadata": {},
            "outputs": [
                {
                    "name": "stdout",
                    "output_type": "stream",
                    "text": [
                        "Median is 3400.0\n"
                    ]
                }
            ],
            "source": [
                "print(\"Median is\",np.median(data.Expenses))"
            ]
        },
        {
            "cell_type": "code",
            "execution_count": 20,
            "metadata": {},
            "outputs": [
                {
                    "name": "stdout",
                    "output_type": "stream",
                    "text": [
                        "Standard Deviation is 1222.091911437106\n"
                    ]
                }
            ],
            "source": [
                "print(\"Standard Deviation is\",np.std(data.Expenses))"
            ]
        },
        {
            "cell_type": "code",
            "execution_count": 21,
            "metadata": {},
            "outputs": [
                {
                    "name": "stdout",
                    "output_type": "stream",
                    "text": [
                        "Variation is 1493508.6399999997\n"
                    ]
                }
            ],
            "source": [
                "print(\"Variation is\",np.var(data.Expenses))"
            ]
        },
        {
            "cell_type": "code",
            "execution_count": 22,
            "metadata": {},
            "outputs": [
                {
                    "name": "stdout",
                    "output_type": "stream",
                    "text": [
                        "1.0\n"
                    ]
                }
            ],
            "source": [
                "mon=data.Month\n",
                "exp=data.Month\n",
                "c1=mon.corr(exp)\n",
                "print(c1)"
            ]
        },
        {
            "cell_type": "code",
            "execution_count": 23,
            "metadata": {},
            "outputs": [
                {
                    "data": {
                        "text/plain": [
                            "(25, 2)"
                        ]
                    },
                    "execution_count": 23,
                    "metadata": {},
                    "output_type": "execute_result"
                }
            ],
            "source": [
                "data.shape"
            ]
        },
        {
            "cell_type": "code",
            "execution_count": null,
            "metadata": {},
            "outputs": [],
            "source": []
        }
    ],
    "metadata": {
        "interpreter": {
            "hash": "aee8b7b246df8f9039afb4144a1f6fd8d2ca17a180786b69acc140d282b71a49"
        },
        "kernelspec": {
            "display_name": "Python 3.9.6 64-bit",
            "name": "python3"
        },
        "language_info": {
            "codemirror_mode": {
                "name": "ipython",
                "version": 3
            },
            "file_extension": ".py",
            "mimetype": "text/x-python",
            "name": "python",
            "nbconvert_exporter": "python",
            "pygments_lexer": "ipython3",
            "version": "3.9.6"
        },
        "orig_nbformat": 4
    },
    "nbformat": 4,
    "nbformat_minor": 2
}
