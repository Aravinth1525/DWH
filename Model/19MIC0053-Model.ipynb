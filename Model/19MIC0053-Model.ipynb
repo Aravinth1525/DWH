{
 "cells": [
  {
   "cell_type": "markdown",
   "metadata": {},
   "source": [
    "# Aravinth R - 19MIC0053\n",
    "# Model Lab \n",
    "# 01/12/2021"
   ]
  },
  {
   "cell_type": "markdown",
   "metadata": {},
   "source": [
    "<h2>Question 4"
   ]
  },
  {
   "cell_type": "markdown",
   "metadata": {},
   "source": [
    "<h2>Part A"
   ]
  },
  {
   "cell_type": "code",
   "execution_count": 46,
   "metadata": {},
   "outputs": [],
   "source": [
    "import numpy as np\n",
    "import pandas as pd\n",
    "import matplotlib.pyplot as p1\n",
    "import statistics"
   ]
  },
  {
   "cell_type": "code",
   "execution_count": 47,
   "metadata": {},
   "outputs": [],
   "source": [
    "dataset=pd.read_csv(\"/Users/aravinth/Desktop/Data Warehousing/Model/RoadData.csv\")"
   ]
  },
  {
   "cell_type": "markdown",
   "metadata": {},
   "source": [
    "<h2>(i)"
   ]
  },
  {
   "cell_type": "code",
   "execution_count": 48,
   "metadata": {},
   "outputs": [
    {
     "name": "stdout",
     "output_type": "stream",
     "text": [
      "Dimension =  (30, 5)\n"
     ]
    }
   ],
   "source": [
    "print(\"Dimension = \",dataset.shape)"
   ]
  },
  {
   "cell_type": "code",
   "execution_count": 49,
   "metadata": {},
   "outputs": [
    {
     "name": "stdout",
     "output_type": "stream",
     "text": [
      "<class 'pandas.core.frame.DataFrame'>\n",
      "RangeIndex: 30 entries, 0 to 29\n",
      "Data columns (total 5 columns):\n",
      " #   Column            Non-Null Count  Dtype \n",
      "---  ------            --------------  ----- \n",
      " 0   Place_ID          30 non-null     int64 \n",
      " 1   Area              30 non-null     object\n",
      " 2   Number_of_Ponds   30 non-null     int64 \n",
      " 3   Number_of_Canals  30 non-null     int64 \n",
      " 4   Flood_Alert       30 non-null     object\n",
      "dtypes: int64(3), object(2)\n",
      "memory usage: 1.3+ KB\n",
      "Structure =  None\n"
     ]
    }
   ],
   "source": [
    "print(\"Structure = \",dataset.info())"
   ]
  },
  {
   "cell_type": "code",
   "execution_count": 50,
   "metadata": {},
   "outputs": [
    {
     "name": "stdout",
     "output_type": "stream",
     "text": [
      "Attributes Names\n",
      "\n",
      " Index(['Place_ID', 'Area', 'Number_of_Ponds', 'Number_of_Canals',\n",
      "       'Flood_Alert'],\n",
      "      dtype='object')\n"
     ]
    }
   ],
   "source": [
    "print(\"Attributes Names\\n\\n\",dataset.columns)"
   ]
  },
  {
   "cell_type": "code",
   "execution_count": 51,
   "metadata": {},
   "outputs": [
    {
     "name": "stdout",
     "output_type": "stream",
     "text": [
      "Attribute Values\n",
      "\n",
      " [[1 'Rural' 23 2 'No']\n",
      " [2 'Rural' 32 3 'Yes']\n",
      " [3 'Urban' 12 6 'No']\n",
      " [4 'Rural' 27 2 'No']\n",
      " [5 'Urban' 10 3 'No']\n",
      " [6 'Urban' 7 5 'Yes']\n",
      " [7 'Urban' 13 4 'Yes']\n",
      " [8 'Rural' 44 3 'No']\n",
      " [9 'Rural' 24 1 'Yes']\n",
      " [10 'Urban' 11 5 'No']\n",
      " [11 'Rural' 32 3 'No']\n",
      " [12 'Rural' 27 5 'No']\n",
      " [13 'Rural' 22 7 'Yes']\n",
      " [14 'Urban' 10 5 'Yes']\n",
      " [15 'Urban' 23 3 'No']\n",
      " [16 'Urban' 10 5 'No']\n",
      " [17 'Rural' 12 8 'Yes']\n",
      " [18 'Rural' 27 9 'No']\n",
      " [19 'Urban' 10 3 'No']\n",
      " [20 'Rural' 7 2 'No']\n",
      " [21 'Urban' 13 5 'Yes']\n",
      " [22 'Urban' 44 3 'Yes']\n",
      " [23 'Urban' 24 6 'No']\n",
      " [24 'Rural' 11 7 'Yes']\n",
      " [25 'Rural' 32 3 'No']\n",
      " [26 'Urban' 11 6 'No']\n",
      " [27 'Rural' 22 8 'No']\n",
      " [28 'Rural' 10 2 'Yes']\n",
      " [29 'Rural' 23 4 'Yes']\n",
      " [30 'Urban' 17 5 'No']]\n"
     ]
    }
   ],
   "source": [
    "print(\"Attribute Values\\n\\n\",dataset.values)"
   ]
  },
  {
   "cell_type": "markdown",
   "metadata": {},
   "source": [
    "<h2>(ii)"
   ]
  },
  {
   "cell_type": "code",
   "execution_count": 52,
   "metadata": {},
   "outputs": [
    {
     "name": "stdout",
     "output_type": "stream",
     "text": [
      "A. First 5 Record\n",
      "\n",
      "    Place_ID   Area  Number_of_Ponds  Number_of_Canals Flood_Alert\n",
      "0         1  Rural               23                 2          No\n",
      "1         2  Rural               32                 3         Yes\n",
      "2         3  Urban               12                 6          No\n",
      "3         4  Rural               27                 2          No\n",
      "4         5  Urban               10                 3          No\n"
     ]
    }
   ],
   "source": [
    "print(\"A. First 5 Record\\n\\n\",dataset[:5])"
   ]
  },
  {
   "cell_type": "code",
   "execution_count": 53,
   "metadata": {},
   "outputs": [
    {
     "name": "stdout",
     "output_type": "stream",
     "text": [
      "B. Last 5 Record\n",
      "\n",
      "     Place_ID   Area  Number_of_Ponds  Number_of_Canals Flood_Alert\n",
      "25        26  Urban               11                 6          No\n",
      "26        27  Rural               22                 8          No\n",
      "27        28  Rural               10                 2         Yes\n",
      "28        29  Rural               23                 4         Yes\n",
      "29        30  Urban               17                 5          No\n"
     ]
    }
   ],
   "source": [
    "print(\"B. Last 5 Record\\n\\n\",dataset[-5:])"
   ]
  },
  {
   "cell_type": "code",
   "execution_count": 54,
   "metadata": {},
   "outputs": [
    {
     "name": "stdout",
     "output_type": "stream",
     "text": [
      "C. Place_ID, Area, Flood_alert of First 10 records\n",
      "\n",
      "    Place_ID   Area Flood_Alert\n",
      "0         1  Rural          No\n",
      "1         2  Rural         Yes\n",
      "2         3  Urban          No\n",
      "3         4  Rural          No\n",
      "4         5  Urban          No\n",
      "5         6  Urban         Yes\n",
      "6         7  Urban         Yes\n",
      "7         8  Rural          No\n",
      "8         9  Rural         Yes\n",
      "9        10  Urban          No\n"
     ]
    }
   ],
   "source": [
    "print(\"C. Place_ID, Area, Flood_alert of First 10 records\\n\\n\",dataset[['Place_ID','Area','Flood_Alert']][:10])"
   ]
  },
  {
   "cell_type": "code",
   "execution_count": 55,
   "metadata": {},
   "outputs": [
    {
     "name": "stdout",
     "output_type": "stream",
     "text": [
      "D. Name (Area Type) of all records\n",
      "\n",
      " 0     Rural\n",
      "1     Rural\n",
      "2     Urban\n",
      "3     Rural\n",
      "4     Urban\n",
      "5     Urban\n",
      "6     Urban\n",
      "7     Rural\n",
      "8     Rural\n",
      "9     Urban\n",
      "10    Rural\n",
      "11    Rural\n",
      "12    Rural\n",
      "13    Urban\n",
      "14    Urban\n",
      "15    Urban\n",
      "16    Rural\n",
      "17    Rural\n",
      "18    Urban\n",
      "19    Rural\n",
      "20    Urban\n",
      "21    Urban\n",
      "22    Urban\n",
      "23    Rural\n",
      "24    Rural\n",
      "25    Urban\n",
      "26    Rural\n",
      "27    Rural\n",
      "28    Rural\n",
      "29    Urban\n",
      "Name: Area, dtype: object\n"
     ]
    }
   ],
   "source": [
    "print(\"D. Name (Area Type) of all records\\n\\n\",dataset.Area)"
   ]
  },
  {
   "cell_type": "code",
   "execution_count": 56,
   "metadata": {},
   "outputs": [
    {
     "name": "stdout",
     "output_type": "stream",
     "text": [
      "E. All records\n",
      "\n",
      "     Place_ID   Area  Number_of_Ponds  Number_of_Canals Flood_Alert\n",
      "0          1  Rural               23                 2          No\n",
      "1          2  Rural               32                 3         Yes\n",
      "2          3  Urban               12                 6          No\n",
      "3          4  Rural               27                 2          No\n",
      "4          5  Urban               10                 3          No\n",
      "5          6  Urban                7                 5         Yes\n",
      "6          7  Urban               13                 4         Yes\n",
      "7          8  Rural               44                 3          No\n",
      "8          9  Rural               24                 1         Yes\n",
      "9         10  Urban               11                 5          No\n",
      "10        11  Rural               32                 3          No\n",
      "11        12  Rural               27                 5          No\n",
      "12        13  Rural               22                 7         Yes\n",
      "13        14  Urban               10                 5         Yes\n",
      "14        15  Urban               23                 3          No\n",
      "15        16  Urban               10                 5          No\n",
      "16        17  Rural               12                 8         Yes\n",
      "17        18  Rural               27                 9          No\n",
      "18        19  Urban               10                 3          No\n",
      "19        20  Rural                7                 2          No\n",
      "20        21  Urban               13                 5         Yes\n",
      "21        22  Urban               44                 3         Yes\n",
      "22        23  Urban               24                 6          No\n",
      "23        24  Rural               11                 7         Yes\n",
      "24        25  Rural               32                 3          No\n",
      "25        26  Urban               11                 6          No\n",
      "26        27  Rural               22                 8          No\n",
      "27        28  Rural               10                 2         Yes\n",
      "28        29  Rural               23                 4         Yes\n",
      "29        30  Urban               17                 5          No\n"
     ]
    }
   ],
   "source": [
    "print(\"E. All records\\n\\n\",dataset)"
   ]
  },
  {
   "cell_type": "markdown",
   "metadata": {},
   "source": [
    "<h2>(iii)"
   ]
  },
  {
   "cell_type": "markdown",
   "metadata": {},
   "source": [
    "<h2>Piechart"
   ]
  },
  {
   "cell_type": "code",
   "execution_count": 57,
   "metadata": {},
   "outputs": [],
   "source": [
    "roaddata=pd.read_csv(\"/Users/aravinth/Desktop/Data Warehousing/Model/RoadData1.csv\")"
   ]
  },
  {
   "cell_type": "code",
   "execution_count": 58,
   "metadata": {},
   "outputs": [
    {
     "data": {
      "text/plain": [
       "([<matplotlib.patches.Wedge at 0x7fe13964a370>,\n",
       "  <matplotlib.patches.Wedge at 0x7fe13964ab20>,\n",
       "  <matplotlib.patches.Wedge at 0x7fe139657280>,\n",
       "  <matplotlib.patches.Wedge at 0x7fe1396579a0>,\n",
       "  <matplotlib.patches.Wedge at 0x7fe168b74100>,\n",
       "  <matplotlib.patches.Wedge at 0x7fe168b74820>,\n",
       "  <matplotlib.patches.Wedge at 0x7fe168b74f40>,\n",
       "  <matplotlib.patches.Wedge at 0x7fe168b816a0>,\n",
       "  <matplotlib.patches.Wedge at 0x7fe168b81dc0>,\n",
       "  <matplotlib.patches.Wedge at 0x7fe168b90520>,\n",
       "  <matplotlib.patches.Wedge at 0x7fe1396220d0>,\n",
       "  <matplotlib.patches.Wedge at 0x7fe168b9e370>,\n",
       "  <matplotlib.patches.Wedge at 0x7fe168b9ea90>,\n",
       "  <matplotlib.patches.Wedge at 0x7fe168baa220>,\n",
       "  <matplotlib.patches.Wedge at 0x7fe168baa940>,\n",
       "  <matplotlib.patches.Wedge at 0x7fe168bb70a0>,\n",
       "  <matplotlib.patches.Wedge at 0x7fe168bb77c0>,\n",
       "  <matplotlib.patches.Wedge at 0x7fe168bb7ee0>,\n",
       "  <matplotlib.patches.Wedge at 0x7fe168bc5640>,\n",
       "  <matplotlib.patches.Wedge at 0x7fe168bc5d60>,\n",
       "  <matplotlib.patches.Wedge at 0x7fe168bd44c0>,\n",
       "  <matplotlib.patches.Wedge at 0x7fe168bd4be0>,\n",
       "  <matplotlib.patches.Wedge at 0x7fe168be1340>,\n",
       "  <matplotlib.patches.Wedge at 0x7fe168be1a60>,\n",
       "  <matplotlib.patches.Wedge at 0x7fe168bee1c0>,\n",
       "  <matplotlib.patches.Wedge at 0x7fe168bee8e0>,\n",
       "  <matplotlib.patches.Wedge at 0x7fe168beefa0>,\n",
       "  <matplotlib.patches.Wedge at 0x7fe168bfc700>,\n",
       "  <matplotlib.patches.Wedge at 0x7fe14a480fa0>,\n",
       "  <matplotlib.patches.Wedge at 0x7fe168c0a4c0>],\n",
       " [Text(-0.05194686798742242, 1.0987727348757328, '1'),\n",
       "  Text(-0.18105405064544922, 1.0849974335199486, '2'),\n",
       "  Text(-0.40590316372198054, 1.0223710782687894, '3'),\n",
       "  Text(-0.5907251742930435, 0.927924441135405, '4'),\n",
       "  Text(-0.6959479122717349, 0.8518547431367708, '5'),\n",
       "  Text(-0.8435760217906731, 0.7059599814860767, '6'),\n",
       "  Text(-0.9735367982904217, 0.5120801718231579, '7'),\n",
       "  Text(-1.0445446517692143, 0.34485717400154364, '8'),\n",
       "  Text(-1.0724207002284145, 0.24477304124759525, '9'),\n",
       "  Text(-1.096242940656734, 0.09083729993937677, '10'),\n",
       "  Text(-1.0937916666211522, -0.11670385610648054, '11'),\n",
       "  Text(-1.0523983898489688, -0.3200900327147005, '12'),\n",
       "  Text(-0.9208831481389645, -0.6016429401843506, '13'),\n",
       "  Text(-0.7158735934213307, -0.8351796203464447, '14'),\n",
       "  Text(-0.5462454565310684, -0.9547857881321679, '15'),\n",
       "  Text(-0.3571694734812156, -1.040398946180335, '16'),\n",
       "  Text(-0.025980742770376278, -1.0996931394735077, '17'),\n",
       "  Text(0.4059031218439163, -1.022371094895275, '18'),\n",
       "  Text(0.6756339526791717, -0.8680545846818154, '19'),\n",
       "  Text(0.7732106898232063, -0.782397104508396, '20'),\n",
       "  Text(0.8914434316950894, -0.6444599352075212, '21'),\n",
       "  Text(0.9966333031499944, -0.46553416529007985, '22'),\n",
       "  Text(1.072420690918258, -0.24477308203805007, '23'),\n",
       "  Text(1.096242947035333, 0.09083722296112233, '24'),\n",
       "  Text(1.0445446739671154, 0.3448571067658793, '25'),\n",
       "  Text(0.9482679748511286, 0.5574834956047934, '26'),\n",
       "  Text(0.715873603195726, 0.8351796119683289, '27'),\n",
       "  Text(0.5005468026306509, 0.9795166656960117, '28'),\n",
       "  Text(0.357169461305068, 1.0403989503604123, '29'),\n",
       "  Text(0.12961372017442233, 1.092337074140829, '30')],\n",
       " [Text(-0.028334655265866773, 0.5993305826594906, '1.5%'),\n",
       "  Text(-0.09875675489751774, 0.5918167819199719, '2.3%'),\n",
       "  Text(-0.22140172566653482, 0.557656951782976, '4.5%'),\n",
       "  Text(-0.32221373143256915, 0.5061406042556753, '1.5%'),\n",
       "  Text(-0.379607952148219, 0.46464804171096585, '2.3%'),\n",
       "  Text(-0.4601323755221853, 0.38506908081058727, '3.8%'),\n",
       "  Text(-0.5310200717947754, 0.2793164573580861, '3.0%'),\n",
       "  Text(-0.5697516282377532, 0.18810391309175106, '2.3%'),\n",
       "  Text(-0.5849567455791351, 0.13351256795323374, '0.8%'),\n",
       "  Text(-0.597950694903673, 0.049547618148750965, '3.8%'),\n",
       "  Text(-0.5966136363388103, -0.06365664878535301, '2.3%'),\n",
       "  Text(-0.5740354853721648, -0.1745945632989275, '3.8%'),\n",
       "  Text(-0.5022998989848897, -0.32816887646419124, '5.3%'),\n",
       "  Text(-0.39047650550254404, -0.45555252018896975, '3.8%'),\n",
       "  Text(-0.2979520671987645, -0.5207922480720916, '2.3%'),\n",
       "  Text(-0.19481971280793575, -0.5674903342801826, '3.8%'),\n",
       "  Text(-0.01417131423838706, -0.5998326215310041, '6.0%'),\n",
       "  Text(0.22140170282395433, -0.557656960851968, '6.8%'),\n",
       "  Text(0.3685276105522754, -0.4734843189173538, '2.3%'),\n",
       "  Text(0.42175128535811246, -0.42676205700457953, '1.5%'),\n",
       "  Text(0.4862418718336851, -0.35152360102228425, '3.8%'),\n",
       "  Text(0.5436181653545423, -0.25392772652186174, '2.3%'),\n",
       "  Text(0.584956740500868, -0.13351259020257275, '4.5%'),\n",
       "  Text(0.5979506983829088, 0.04954757616061217, '5.3%'),\n",
       "  Text(0.5697516403456991, 0.1881038764177523, '2.3%'),\n",
       "  Text(0.5172370771915246, 0.3040819066935236, '4.5%'),\n",
       "  Text(0.39047651083403234, 0.4555525156190884, '6.0%'),\n",
       "  Text(0.2730255287076277, 0.5342818176523699, '1.5%'),\n",
       "  Text(0.1948197061664007, 0.5674903365602249, '3.0%'),\n",
       "  Text(0.07069839282241216, 0.5958202222586338, '3.8%')])"
      ]
     },
     "execution_count": 58,
     "metadata": {},
     "output_type": "execute_result"
    },
    {
     "data": {
      "image/png": "[encoded data removed]",
      "text/plain": [
       "<Figure size 432x288 with 1 Axes>"
      ]
     },
     "metadata": {},
     "output_type": "display_data"
    }
   ],
   "source": [
    "p1.pie(roaddata.Traffic_Volume, labels=roaddata.Place_ID,autopct='%1.1f%%',startangle=90)"
   ]
  },
  {
   "cell_type": "markdown",
   "metadata": {},
   "source": [
    "<h2>Histogram"
   ]
  },
  {
   "cell_type": "code",
   "execution_count": 59,
   "metadata": {},
   "outputs": [
    {
     "data": {
      "image/png": "[encoded data removed]",
      "text/plain": [
       "<Figure size 432x288 with 1 Axes>"
      ]
     },
     "metadata": {
      "needs_background": "light"
     },
     "output_type": "display_data"
    }
   ],
   "source": [
    "p1.title('Histogram of Number of Bends')\n",
    "p1.xlabel('Number of Bends')\n",
    "p1.ylabel('Place ID')\n",
    "p1.hist2d(roaddata.No_of_Bends,roaddata.Place_ID)\n",
    "p1.show()"
   ]
  },
  {
   "cell_type": "markdown",
   "metadata": {},
   "source": [
    "<h2>Part B"
   ]
  },
  {
   "cell_type": "markdown",
   "metadata": {},
   "source": [
    "<h2>Apriori Algorithm"
   ]
  },
  {
   "cell_type": "code",
   "execution_count": 60,
   "metadata": {},
   "outputs": [
    {
     "name": "stdout",
     "output_type": "stream",
     "text": [
      "     a    b Unnamed: 2    d    e\n",
      "0  NaN    b          c    d  NaN\n",
      "1    a    b        NaN    d    e\n",
      "2    a  NaN          c    d    e\n",
      "3  NaN    b          c    d    e\n",
      "4  NaN    b        NaN    d    e\n",
      "5  NaN  NaN          c    d  NaN\n",
      "6    a    b          c  NaN  NaN\n",
      "7    a  NaN        NaN    d    e\n",
      "8  NaN    b        NaN    d  NaN\n"
     ]
    }
   ],
   "source": [
    "import numpy as np\n",
    "import pandas as pd\n",
    "from apyori import apriori\n",
    "data=pd.read_csv(\"/Users/aravinth/Desktop/Data Warehousing/Model/Apriori.csv\")\n",
    "print(data)"
   ]
  },
  {
   "cell_type": "code",
   "execution_count": 61,
   "metadata": {},
   "outputs": [
    {
     "name": "stdout",
     "output_type": "stream",
     "text": [
      "[['nan', 'b', 'c', 'd', 'nan']]\n",
      "[['nan', 'b', 'c', 'd', 'nan'], ['a', 'b', 'nan', 'd', 'e']]\n",
      "[['nan', 'b', 'c', 'd', 'nan'], ['a', 'b', 'nan', 'd', 'e'], ['a', 'nan', 'c', 'd', 'e']]\n",
      "[['nan', 'b', 'c', 'd', 'nan'], ['a', 'b', 'nan', 'd', 'e'], ['a', 'nan', 'c', 'd', 'e'], ['nan', 'b', 'c', 'd', 'e']]\n",
      "[['nan', 'b', 'c', 'd', 'nan'], ['a', 'b', 'nan', 'd', 'e'], ['a', 'nan', 'c', 'd', 'e'], ['nan', 'b', 'c', 'd', 'e'], ['nan', 'b', 'nan', 'd', 'e']]\n",
      "[['nan', 'b', 'c', 'd', 'nan'], ['a', 'b', 'nan', 'd', 'e'], ['a', 'nan', 'c', 'd', 'e'], ['nan', 'b', 'c', 'd', 'e'], ['nan', 'b', 'nan', 'd', 'e'], ['nan', 'nan', 'c', 'd', 'nan']]\n"
     ]
    }
   ],
   "source": [
    "list1=[]\n",
    "for i in range(0,6):\n",
    "    list1.append([str(data.values[i,j]) for j in range (0,5)])\n",
    "    print(list1)"
   ]
  },
  {
   "cell_type": "markdown",
   "metadata": {},
   "source": [
    "<H2>Association Rule"
   ]
  },
  {
   "cell_type": "code",
   "execution_count": 62,
   "metadata": {},
   "outputs": [
    {
     "name": "stdout",
     "output_type": "stream",
     "text": [
      "28\n",
      "[RelationRecord(items=frozenset({'d'}), support=1.0, ordered_statistics=[OrderedStatistic(items_base=frozenset(), items_add=frozenset({'d'}), confidence=1.0, lift=1.0)]), RelationRecord(items=frozenset({'nan'}), support=1.0, ordered_statistics=[OrderedStatistic(items_base=frozenset(), items_add=frozenset({'nan'}), confidence=1.0, lift=1.0)]), RelationRecord(items=frozenset({'a', 'd'}), support=0.3333333333333333, ordered_statistics=[OrderedStatistic(items_base=frozenset({'a'}), items_add=frozenset({'d'}), confidence=1.0, lift=1.0)]), RelationRecord(items=frozenset({'a', 'e'}), support=0.3333333333333333, ordered_statistics=[OrderedStatistic(items_base=frozenset({'a'}), items_add=frozenset({'e'}), confidence=1.0, lift=1.5)]), RelationRecord(items=frozenset({'a', 'nan'}), support=0.3333333333333333, ordered_statistics=[OrderedStatistic(items_base=frozenset({'a'}), items_add=frozenset({'nan'}), confidence=1.0, lift=1.0)]), RelationRecord(items=frozenset({'d', 'b'}), support=0.6666666666666666, ordered_statistics=[OrderedStatistic(items_base=frozenset({'b'}), items_add=frozenset({'d'}), confidence=1.0, lift=1.0)]), RelationRecord(items=frozenset({'b', 'nan'}), support=0.6666666666666666, ordered_statistics=[OrderedStatistic(items_base=frozenset({'b'}), items_add=frozenset({'nan'}), confidence=1.0, lift=1.0)]), RelationRecord(items=frozenset({'d', 'c'}), support=0.6666666666666666, ordered_statistics=[OrderedStatistic(items_base=frozenset({'c'}), items_add=frozenset({'d'}), confidence=1.0, lift=1.0)]), RelationRecord(items=frozenset({'c', 'nan'}), support=0.6666666666666666, ordered_statistics=[OrderedStatistic(items_base=frozenset({'c'}), items_add=frozenset({'nan'}), confidence=1.0, lift=1.0)]), RelationRecord(items=frozenset({'d', 'e'}), support=0.6666666666666666, ordered_statistics=[OrderedStatistic(items_base=frozenset({'e'}), items_add=frozenset({'d'}), confidence=1.0, lift=1.0)]), RelationRecord(items=frozenset({'d', 'nan'}), support=1.0, ordered_statistics=[OrderedStatistic(items_base=frozenset(), items_add=frozenset({'d', 'nan'}), confidence=1.0, lift=1.0), OrderedStatistic(items_base=frozenset({'d'}), items_add=frozenset({'nan'}), confidence=1.0, lift=1.0), OrderedStatistic(items_base=frozenset({'nan'}), items_add=frozenset({'d'}), confidence=1.0, lift=1.0)]), RelationRecord(items=frozenset({'e', 'nan'}), support=0.6666666666666666, ordered_statistics=[OrderedStatistic(items_base=frozenset({'e'}), items_add=frozenset({'nan'}), confidence=1.0, lift=1.0)]), RelationRecord(items=frozenset({'a', 'd', 'e'}), support=0.3333333333333333, ordered_statistics=[OrderedStatistic(items_base=frozenset({'a'}), items_add=frozenset({'d', 'e'}), confidence=1.0, lift=1.5), OrderedStatistic(items_base=frozenset({'a', 'd'}), items_add=frozenset({'e'}), confidence=1.0, lift=1.5), OrderedStatistic(items_base=frozenset({'a', 'e'}), items_add=frozenset({'d'}), confidence=1.0, lift=1.0)]), RelationRecord(items=frozenset({'a', 'd', 'nan'}), support=0.3333333333333333, ordered_statistics=[OrderedStatistic(items_base=frozenset({'a'}), items_add=frozenset({'d', 'nan'}), confidence=1.0, lift=1.0), OrderedStatistic(items_base=frozenset({'a', 'd'}), items_add=frozenset({'nan'}), confidence=1.0, lift=1.0), OrderedStatistic(items_base=frozenset({'a', 'nan'}), items_add=frozenset({'d'}), confidence=1.0, lift=1.0)]), RelationRecord(items=frozenset({'a', 'e', 'nan'}), support=0.3333333333333333, ordered_statistics=[OrderedStatistic(items_base=frozenset({'a'}), items_add=frozenset({'e', 'nan'}), confidence=1.0, lift=1.5), OrderedStatistic(items_base=frozenset({'a', 'e'}), items_add=frozenset({'nan'}), confidence=1.0, lift=1.0), OrderedStatistic(items_base=frozenset({'a', 'nan'}), items_add=frozenset({'e'}), confidence=1.0, lift=1.5)]), RelationRecord(items=frozenset({'d', 'b', 'c'}), support=0.3333333333333333, ordered_statistics=[OrderedStatistic(items_base=frozenset({'b', 'c'}), items_add=frozenset({'d'}), confidence=1.0, lift=1.0)]), RelationRecord(items=frozenset({'b', 'c', 'nan'}), support=0.3333333333333333, ordered_statistics=[OrderedStatistic(items_base=frozenset({'b', 'c'}), items_add=frozenset({'nan'}), confidence=1.0, lift=1.0)]), RelationRecord(items=frozenset({'d', 'b', 'e'}), support=0.5, ordered_statistics=[OrderedStatistic(items_base=frozenset({'b', 'e'}), items_add=frozenset({'d'}), confidence=1.0, lift=1.0)]), RelationRecord(items=frozenset({'d', 'b', 'nan'}), support=0.6666666666666666, ordered_statistics=[OrderedStatistic(items_base=frozenset({'b'}), items_add=frozenset({'d', 'nan'}), confidence=1.0, lift=1.0), OrderedStatistic(items_base=frozenset({'d', 'b'}), items_add=frozenset({'nan'}), confidence=1.0, lift=1.0), OrderedStatistic(items_base=frozenset({'b', 'nan'}), items_add=frozenset({'d'}), confidence=1.0, lift=1.0)]), RelationRecord(items=frozenset({'b', 'e', 'nan'}), support=0.5, ordered_statistics=[OrderedStatistic(items_base=frozenset({'b', 'e'}), items_add=frozenset({'nan'}), confidence=1.0, lift=1.0)]), RelationRecord(items=frozenset({'d', 'c', 'e'}), support=0.3333333333333333, ordered_statistics=[OrderedStatistic(items_base=frozenset({'c', 'e'}), items_add=frozenset({'d'}), confidence=1.0, lift=1.0)]), RelationRecord(items=frozenset({'d', 'c', 'nan'}), support=0.6666666666666666, ordered_statistics=[OrderedStatistic(items_base=frozenset({'c'}), items_add=frozenset({'d', 'nan'}), confidence=1.0, lift=1.0), OrderedStatistic(items_base=frozenset({'d', 'c'}), items_add=frozenset({'nan'}), confidence=1.0, lift=1.0), OrderedStatistic(items_base=frozenset({'c', 'nan'}), items_add=frozenset({'d'}), confidence=1.0, lift=1.0)]), RelationRecord(items=frozenset({'c', 'e', 'nan'}), support=0.3333333333333333, ordered_statistics=[OrderedStatistic(items_base=frozenset({'c', 'e'}), items_add=frozenset({'nan'}), confidence=1.0, lift=1.0)]), RelationRecord(items=frozenset({'d', 'e', 'nan'}), support=0.6666666666666666, ordered_statistics=[OrderedStatistic(items_base=frozenset({'e'}), items_add=frozenset({'d', 'nan'}), confidence=1.0, lift=1.0), OrderedStatistic(items_base=frozenset({'d', 'e'}), items_add=frozenset({'nan'}), confidence=1.0, lift=1.0), OrderedStatistic(items_base=frozenset({'e', 'nan'}), items_add=frozenset({'d'}), confidence=1.0, lift=1.0)]), RelationRecord(items=frozenset({'a', 'd', 'e', 'nan'}), support=0.3333333333333333, ordered_statistics=[OrderedStatistic(items_base=frozenset({'a'}), items_add=frozenset({'d', 'e', 'nan'}), confidence=1.0, lift=1.5), OrderedStatistic(items_base=frozenset({'a', 'd'}), items_add=frozenset({'e', 'nan'}), confidence=1.0, lift=1.5), OrderedStatistic(items_base=frozenset({'a', 'e'}), items_add=frozenset({'d', 'nan'}), confidence=1.0, lift=1.0), OrderedStatistic(items_base=frozenset({'a', 'nan'}), items_add=frozenset({'d', 'e'}), confidence=1.0, lift=1.5), OrderedStatistic(items_base=frozenset({'a', 'd', 'e'}), items_add=frozenset({'nan'}), confidence=1.0, lift=1.0), OrderedStatistic(items_base=frozenset({'a', 'd', 'nan'}), items_add=frozenset({'e'}), confidence=1.0, lift=1.5), OrderedStatistic(items_base=frozenset({'a', 'e', 'nan'}), items_add=frozenset({'d'}), confidence=1.0, lift=1.0)]), RelationRecord(items=frozenset({'d', 'b', 'c', 'nan'}), support=0.3333333333333333, ordered_statistics=[OrderedStatistic(items_base=frozenset({'b', 'c'}), items_add=frozenset({'d', 'nan'}), confidence=1.0, lift=1.0), OrderedStatistic(items_base=frozenset({'d', 'b', 'c'}), items_add=frozenset({'nan'}), confidence=1.0, lift=1.0), OrderedStatistic(items_base=frozenset({'b', 'c', 'nan'}), items_add=frozenset({'d'}), confidence=1.0, lift=1.0)]), RelationRecord(items=frozenset({'d', 'b', 'e', 'nan'}), support=0.5, ordered_statistics=[OrderedStatistic(items_base=frozenset({'b', 'e'}), items_add=frozenset({'d', 'nan'}), confidence=1.0, lift=1.0), OrderedStatistic(items_base=frozenset({'d', 'b', 'e'}), items_add=frozenset({'nan'}), confidence=1.0, lift=1.0), OrderedStatistic(items_base=frozenset({'b', 'e', 'nan'}), items_add=frozenset({'d'}), confidence=1.0, lift=1.0)]), RelationRecord(items=frozenset({'d', 'c', 'e', 'nan'}), support=0.3333333333333333, ordered_statistics=[OrderedStatistic(items_base=frozenset({'c', 'e'}), items_add=frozenset({'d', 'nan'}), confidence=1.0, lift=1.0), OrderedStatistic(items_base=frozenset({'d', 'c', 'e'}), items_add=frozenset({'nan'}), confidence=1.0, lift=1.0), OrderedStatistic(items_base=frozenset({'c', 'e', 'nan'}), items_add=frozenset({'d'}), confidence=1.0, lift=1.0)])]\n"
     ]
    }
   ],
   "source": [
    "association_rule=apriori(list1,min_support=0.3,min_confidence=0.8,min_length=2) #Support Count - 3, Confidence - 80%\n",
    "result= list(association_rule)\n",
    "print(len(result))\n",
    "print(result)"
   ]
  }
 ],
 "metadata": {
  "interpreter": {
   "hash": "aee8b7b246df8f9039afb4144a1f6fd8d2ca17a180786b69acc140d282b71a49"
  },
  "kernelspec": {
   "display_name": "Python 3.9.6 64-bit",
   "language": "python",
   "name": "python3"
  },
  "language_info": {
   "codemirror_mode": {
    "name": "ipython",
    "version": 3
   },
   "file_extension": ".py",
   "mimetype": "text/x-python",
   "name": "python",
   "nbconvert_exporter": "python",
   "pygments_lexer": "ipython3",
   "version": "3.9.6"
  },
  "orig_nbformat": 4
 },
 "nbformat": 4,
 "nbformat_minor": 2
}
