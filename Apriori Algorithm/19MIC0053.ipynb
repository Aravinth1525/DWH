{
 "cells": [
  {
   "cell_type": "markdown",
   "source": [
    "<h1>Aravinth R - 19MIC0053<br>\n",
    "Data Warehousing and Mining<br>\n",
    "Lab Assignment - 2</h1>"
   ],
   "metadata": {}
  },
  {
   "cell_type": "code",
   "execution_count": 1,
   "source": [
    "import numpy as np\n",
    "import pandas as pd\n",
    "import matplotlib.pyplot as p1\n",
    "import statistics"
   ],
   "outputs": [],
   "metadata": {}
  },
  {
   "cell_type": "code",
   "execution_count": 2,
   "source": [
    "dataset=pd.read_csv(\"/Users/aravinth/Desktop/Data Warehousing/Assignment 1/Employee Dataset.csv\")"
   ],
   "outputs": [],
   "metadata": {}
  },
  {
   "cell_type": "code",
   "execution_count": 3,
   "source": [
    "print(\"1. Dimension = \",dataset.shape)"
   ],
   "outputs": [
    {
     "output_type": "stream",
     "name": "stdout",
     "text": [
      "1. Dimension =  (30, 6)\n"
     ]
    }
   ],
   "metadata": {}
  },
  {
   "cell_type": "code",
   "execution_count": 4,
   "source": [
    "print(\"1. Structure = \",dataset.info())"
   ],
   "outputs": [
    {
     "output_type": "stream",
     "name": "stdout",
     "text": [
      "<class 'pandas.core.frame.DataFrame'>\n",
      "RangeIndex: 30 entries, 0 to 29\n",
      "Data columns (total 6 columns):\n",
      " #   Column       Non-Null Count  Dtype \n",
      "---  ------       --------------  ----- \n",
      " 0   Empid        30 non-null     int64 \n",
      " 1   Name         30 non-null     object\n",
      " 2   Designation  30 non-null     object\n",
      " 3   Salary       30 non-null     int64 \n",
      " 4   Experience   30 non-null     int64 \n",
      " 5   Vaccinated   30 non-null     object\n",
      "dtypes: int64(3), object(3)\n",
      "memory usage: 1.5+ KB\n",
      "1. Structure =  None\n"
     ]
    }
   ],
   "metadata": {}
  },
  {
   "cell_type": "code",
   "execution_count": 5,
   "source": [
    "print(\"1. Attributes Names\\n\\n\",dataset.columns)"
   ],
   "outputs": [
    {
     "output_type": "stream",
     "name": "stdout",
     "text": [
      "1. Attributes Names\n",
      "\n",
      " Index(['Empid', 'Name', 'Designation', 'Salary', 'Experience', 'Vaccinated'], dtype='object')\n"
     ]
    }
   ],
   "metadata": {}
  },
  {
   "cell_type": "code",
   "execution_count": 6,
   "source": [
    "print(\"1. Attribute Values\\n\\n\",dataset.values)"
   ],
   "outputs": [
    {
     "output_type": "stream",
     "name": "stdout",
     "text": [
      "1. Attribute Values\n",
      "\n",
      " [[1 'Pranauv' 'Supervisor' 25000 5 'No']\n",
      " [2 'Purusothaman' 'Manager' 27600 3 'Yes']\n",
      " [3 'Shyam' 'Clerk' 27000 7 'Yes']\n",
      " [4 'Nithin' 'Labour' 29000 3 'Yes']\n",
      " [5 'Rohit' 'Supervisor' 27500 3 'No']\n",
      " [6 'Aravinth' 'Manager' 26000 5 'Yes']\n",
      " [7 'Barani' 'Clerk' 30000 4 'Yes']\n",
      " [8 'Niketha' 'Labour' 26000 2 'Yes']\n",
      " [9 'Krithiik' 'Supervisor' 25000 5 'No']\n",
      " [10 'Kumaaravel' 'Manager' 27600 3 'No']\n",
      " [11 'Abishek' 'Clerk' 27000 7 'Yes']\n",
      " [12 'Aneesh' 'Labour' 29000 3 'Yes']\n",
      " [13 'Ajay' 'Supervisor' 27500 3 'No']\n",
      " [14 'Babu' 'Manager' 26000 5 'Yes']\n",
      " [15 'Dhiyanesh' 'Clerk' 30000 4 'Yes']\n",
      " [16 'Praveen' 'Labour' 26000 2 'Yes']\n",
      " [17 'Vishnu' 'Supervisor' 25000 5 'No']\n",
      " [18 'Bala' 'Manager' 27600 3 'No']\n",
      " [19 'Naveen' 'Clerk' 27000 7 'Yes']\n",
      " [20 'Siva' 'Labour' 29000 3 'Yes']\n",
      " [21 'Prashanth' 'Supervisor' 27500 3 'No']\n",
      " [22 'Robin' 'Manager' 26000 5 'Yes']\n",
      " [23 'Sakthi' 'Clerk' 30000 4 'Yes']\n",
      " [24 'Santhosh' 'Labour' 26000 2 'Yes']\n",
      " [25 'Farhan' 'Supervisor' 25000 5 'No']\n",
      " [26 'Sanjay' 'Manager' 27600 3 'No']\n",
      " [27 'Keerthana' 'Clerk' 27000 7 'Yes']\n",
      " [28 'Vijay' 'Labour' 29000 3 'Yes']\n",
      " [29 'Ramesh' 'Supervisor' 27500 3 'No']\n",
      " [30 'Bharath' 'Manager' 26000 5 'Yes']]\n"
     ]
    }
   ],
   "metadata": {}
  },
  {
   "cell_type": "code",
   "execution_count": 7,
   "source": [
    "print(\"1. Attribute Values\\n\\n\",dataset.Empid)"
   ],
   "outputs": [
    {
     "output_type": "stream",
     "name": "stdout",
     "text": [
      "1. Attribute Values\n",
      "\n",
      " 0      1\n",
      "1      2\n",
      "2      3\n",
      "3      4\n",
      "4      5\n",
      "5      6\n",
      "6      7\n",
      "7      8\n",
      "8      9\n",
      "9     10\n",
      "10    11\n",
      "11    12\n",
      "12    13\n",
      "13    14\n",
      "14    15\n",
      "15    16\n",
      "16    17\n",
      "17    18\n",
      "18    19\n",
      "19    20\n",
      "20    21\n",
      "21    22\n",
      "22    23\n",
      "23    24\n",
      "24    25\n",
      "25    26\n",
      "26    27\n",
      "27    28\n",
      "28    29\n",
      "29    30\n",
      "Name: Empid, dtype: int64\n"
     ]
    }
   ],
   "metadata": {}
  },
  {
   "cell_type": "code",
   "execution_count": 8,
   "source": [
    "print(\"2 A. First 5 Record\\n\\n\",dataset[:5])"
   ],
   "outputs": [
    {
     "output_type": "stream",
     "name": "stdout",
     "text": [
      "2 A. First 5 Record\n",
      "\n",
      "    Empid          Name Designation  Salary  Experience Vaccinated\n",
      "0      1       Pranauv  Supervisor   25000           5         No\n",
      "1      2  Purusothaman     Manager   27600           3        Yes\n",
      "2      3         Shyam       Clerk   27000           7        Yes\n",
      "3      4        Nithin      Labour   29000           3        Yes\n",
      "4      5         Rohit  Supervisor   27500           3         No\n"
     ]
    }
   ],
   "metadata": {}
  },
  {
   "cell_type": "code",
   "execution_count": 9,
   "source": [
    "print(\"2 B. Last 5 Record\\n\\n\",dataset[-5:])"
   ],
   "outputs": [
    {
     "output_type": "stream",
     "name": "stdout",
     "text": [
      "2 B. Last 5 Record\n",
      "\n",
      "     Empid       Name Designation  Salary  Experience Vaccinated\n",
      "25     26     Sanjay     Manager   27600           3         No\n",
      "26     27  Keerthana       Clerk   27000           7        Yes\n",
      "27     28      Vijay      Labour   29000           3        Yes\n",
      "28     29     Ramesh  Supervisor   27500           3         No\n",
      "29     30    Bharath     Manager   26000           5        Yes\n"
     ]
    }
   ],
   "metadata": {}
  },
  {
   "cell_type": "code",
   "execution_count": 10,
   "source": [
    "print(\"2 C. Name, Designation, Salary of First 10 records\\n\\n\",dataset[['Name','Designation','Salary']][:10])"
   ],
   "outputs": [
    {
     "output_type": "stream",
     "name": "stdout",
     "text": [
      "2 C. Name, Designation, Salary of First 10 records\n",
      "\n",
      "            Name Designation  Salary\n",
      "0       Pranauv  Supervisor   25000\n",
      "1  Purusothaman     Manager   27600\n",
      "2         Shyam       Clerk   27000\n",
      "3        Nithin      Labour   29000\n",
      "4         Rohit  Supervisor   27500\n",
      "5      Aravinth     Manager   26000\n",
      "6        Barani       Clerk   30000\n",
      "7       Niketha      Labour   26000\n",
      "8      Krithiik  Supervisor   25000\n",
      "9    Kumaaravel     Manager   27600\n"
     ]
    }
   ],
   "metadata": {}
  },
  {
   "cell_type": "code",
   "execution_count": 11,
   "source": [
    "print(\"2 D. Name of all records\\n\\n\",dataset.Name)"
   ],
   "outputs": [
    {
     "output_type": "stream",
     "name": "stdout",
     "text": [
      "2 D. Name of all records\n",
      "\n",
      " 0          Pranauv\n",
      "1     Purusothaman\n",
      "2            Shyam\n",
      "3           Nithin\n",
      "4            Rohit\n",
      "5         Aravinth\n",
      "6           Barani\n",
      "7          Niketha\n",
      "8         Krithiik\n",
      "9       Kumaaravel\n",
      "10         Abishek\n",
      "11          Aneesh\n",
      "12            Ajay\n",
      "13            Babu\n",
      "14       Dhiyanesh\n",
      "15         Praveen\n",
      "16          Vishnu\n",
      "17            Bala\n",
      "18          Naveen\n",
      "19            Siva\n",
      "20       Prashanth\n",
      "21           Robin\n",
      "22          Sakthi\n",
      "23        Santhosh\n",
      "24          Farhan\n",
      "25          Sanjay\n",
      "26       Keerthana\n",
      "27           Vijay\n",
      "28          Ramesh\n",
      "29         Bharath\n",
      "Name: Name, dtype: object\n"
     ]
    }
   ],
   "metadata": {}
  },
  {
   "cell_type": "code",
   "execution_count": 12,
   "source": [
    "print(\"2 E. All records\\n\\n\",dataset)"
   ],
   "outputs": [
    {
     "output_type": "stream",
     "name": "stdout",
     "text": [
      "2 E. All records\n",
      "\n",
      "     Empid          Name Designation  Salary  Experience Vaccinated\n",
      "0       1       Pranauv  Supervisor   25000           5         No\n",
      "1       2  Purusothaman     Manager   27600           3        Yes\n",
      "2       3         Shyam       Clerk   27000           7        Yes\n",
      "3       4        Nithin      Labour   29000           3        Yes\n",
      "4       5         Rohit  Supervisor   27500           3         No\n",
      "5       6      Aravinth     Manager   26000           5        Yes\n",
      "6       7        Barani       Clerk   30000           4        Yes\n",
      "7       8       Niketha      Labour   26000           2        Yes\n",
      "8       9      Krithiik  Supervisor   25000           5         No\n",
      "9      10    Kumaaravel     Manager   27600           3         No\n",
      "10     11       Abishek       Clerk   27000           7        Yes\n",
      "11     12        Aneesh      Labour   29000           3        Yes\n",
      "12     13          Ajay  Supervisor   27500           3         No\n",
      "13     14          Babu     Manager   26000           5        Yes\n",
      "14     15     Dhiyanesh       Clerk   30000           4        Yes\n",
      "15     16       Praveen      Labour   26000           2        Yes\n",
      "16     17        Vishnu  Supervisor   25000           5         No\n",
      "17     18          Bala     Manager   27600           3         No\n",
      "18     19        Naveen       Clerk   27000           7        Yes\n",
      "19     20          Siva      Labour   29000           3        Yes\n",
      "20     21     Prashanth  Supervisor   27500           3         No\n",
      "21     22         Robin     Manager   26000           5        Yes\n",
      "22     23        Sakthi       Clerk   30000           4        Yes\n",
      "23     24      Santhosh      Labour   26000           2        Yes\n",
      "24     25        Farhan  Supervisor   25000           5         No\n",
      "25     26        Sanjay     Manager   27600           3         No\n",
      "26     27     Keerthana       Clerk   27000           7        Yes\n",
      "27     28         Vijay      Labour   29000           3        Yes\n",
      "28     29        Ramesh  Supervisor   27500           3         No\n",
      "29     30       Bharath     Manager   26000           5        Yes\n"
     ]
    }
   ],
   "metadata": {}
  },
  {
   "cell_type": "code",
   "execution_count": 13,
   "source": [
    "print(\"3 A. Mean, median and mode of the variables\\n\")\n",
    "print(\"Mean of Salary is\",np.mean(dataset.Salary),\"Rupees\")\n",
    "print(\"Mean of Experience\",np.mean(dataset.Experience),\"years\")\n",
    "print(\"\")\n",
    "print(\"Median of Salary is\",np.median(dataset.Salary),\"Rupees\")\n",
    "print(\"Median of Experience\",np.median(dataset.Experience),\"years\")\n",
    "print(\"\")\n",
    "print(\"Mode of Salary is\",statistics.mode(dataset.Salary),\"Rupees\")\n",
    "print(\"Mode of Experience\",statistics.mode(dataset.Experience),\"years\")"
   ],
   "outputs": [
    {
     "output_type": "stream",
     "name": "stdout",
     "text": [
      "3 A. Mean, median and mode of the variables\n",
      "\n",
      "Mean of Salary is 27213.333333333332 Rupees\n",
      "Mean of Experience 4.066666666666666 years\n",
      "\n",
      "Median of Salary is 27250.0 Rupees\n",
      "Median of Experience 3.5 years\n",
      "\n",
      "Mode of Salary is 26000 Rupees\n",
      "Mode of Experience 3 years\n"
     ]
    }
   ],
   "metadata": {}
  },
  {
   "cell_type": "code",
   "execution_count": 14,
   "source": [
    "print(\"3 B. Variance and Covariance\\n\")\n",
    "print(\"Variance of Salary is\",statistics.variance(dataset.Salary))\n",
    "print(\"Variance of Experience is\",statistics.variance(dataset.Experience))\n",
    "print(\"\")\n",
    "print(\"Covariance of Salary is\",np.cov(dataset.Salary))\n",
    "print(\"Covariance of Experience is\",np.cov(dataset.Experience))"
   ],
   "outputs": [
    {
     "output_type": "stream",
     "name": "stdout",
     "text": [
      "3 B. Variance and Covariance\n",
      "\n",
      "Variance of Salary is 2312919.540229885\n",
      "Variance of Experience is 2.340229885057471\n",
      "\n",
      "Covariance of Salary is 2312919.5402298854\n",
      "Covariance of Experience is 2.3402298850574703\n"
     ]
    }
   ],
   "metadata": {}
  },
  {
   "cell_type": "code",
   "execution_count": 15,
   "source": [
    "sal=dataset.Salary\n",
    "exp=dataset.Experience\n",
    "c=sal.corr(exp)\n",
    "print(\"3 C. Correlation of salary to experience\",c)"
   ],
   "outputs": [
    {
     "output_type": "stream",
     "name": "stdout",
     "text": [
      "3 C. Correlation of salary to experience -0.2790396460115646\n"
     ]
    }
   ],
   "metadata": {}
  },
  {
   "cell_type": "code",
   "execution_count": 16,
   "source": [
    "print(\"4 A. Pie chart on designation\")\n",
    "des=['Manager','Supervisor','Clerk','Labour']\n",
    "count=[8,8,7,7]\n",
    "p1.pie(count,labels=des,autopct='%1.1f%%')\n",
    "p1.show()"
   ],
   "outputs": [
    {
     "output_type": "stream",
     "name": "stdout",
     "text": [
      "4 A. Pie chart on designation\n"
     ]
    },
    {
     "output_type": "display_data",
     "data": {
      "image/png": "[encoded data removed]",
      "text/plain": [
       "<Figure size 432x288 with 1 Axes>"
      ]
     },
     "metadata": {}
    }
   ],
   "metadata": {}
  },
  {
   "cell_type": "code",
   "execution_count": 17,
   "source": [
    "p1.title('4 B. Histogram of Salary')\n",
    "y=(dataset.Salary)\n",
    "p1.hist(y)\n",
    "p1.show()"
   ],
   "outputs": [
    {
     "output_type": "display_data",
     "data": {
      "image/png": "[encoded data removed]",
      "text/plain": [
       "<Figure size 432x288 with 1 Axes>"
      ]
     },
     "metadata": {
      "needs_background": "light"
     }
    }
   ],
   "metadata": {}
  },
  {
   "cell_type": "code",
   "execution_count": 18,
   "source": [
    "p1.title('4 C. Scatter plot of Salary to Experience')\n",
    "p1.xlabel('Experience')\n",
    "p1.ylabel('Salary')\n",
    "y=(dataset.Salary)\n",
    "x=(dataset.Experience)\n",
    "p1.scatter(x,y,color='orange',linestyle='solid')\n",
    "p1.show()"
   ],
   "outputs": [
    {
     "output_type": "display_data",
     "data": {
      "image/png": "[encoded data removed]",
      "text/plain": [
       "<Figure size 432x288 with 1 Axes>"
      ]
     },
     "metadata": {
      "needs_background": "light"
     }
    }
   ],
   "metadata": {}
  }
 ],
 "metadata": {
  "orig_nbformat": 4,
  "language_info": {
   "name": "python",
   "version": "3.9.6",
   "mimetype": "text/x-python",
   "codemirror_mode": {
    "name": "ipython",
    "version": 3
   },
   "pygments_lexer": "ipython3",
   "nbconvert_exporter": "python",
   "file_extension": ".py"
  },
  "kernelspec": {
   "name": "python3",
   "display_name": "Python 3.9.6 64-bit"
  },
  "interpreter": {
   "hash": "aee8b7b246df8f9039afb4144a1f6fd8d2ca17a180786b69acc140d282b71a49"
  }
 },
 "nbformat": 4,
 "nbformat_minor": 2
}