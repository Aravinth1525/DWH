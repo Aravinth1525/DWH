{
 "cells": [
  {
   "cell_type": "markdown",
   "metadata": {},
   "source": [
    "<h1>Aravinth R<br>19MIC0053<br>Lab Experiment 3"
   ]
  },
  {
   "cell_type": "markdown",
   "metadata": {},
   "source": [
    "<h1>Question 1"
   ]
  },
  {
   "cell_type": "markdown",
   "metadata": {},
   "source": [
    "<h1>The Linear Regression Technique"
   ]
  },
  {
   "cell_type": "code",
   "execution_count": 1,
   "metadata": {},
   "outputs": [],
   "source": [
    "import numpy as np\n",
    "import pandas as pd\n",
    "import matplotlib.pyplot as p1\n",
    "from sklearn import linear_model"
   ]
  },
  {
   "cell_type": "code",
   "execution_count": 2,
   "metadata": {},
   "outputs": [],
   "source": [
    "data=pd.read_csv(\"/Users/aravinth/Desktop/Data Warehousing/Assignment 3/CovidActiveCases.csv\")\n",
    "\n",
    "#reference = https://www.worldometers.info/coronavirus/country/india/"
   ]
  },
  {
   "cell_type": "code",
   "execution_count": 3,
   "metadata": {},
   "outputs": [
    {
     "name": "stdout",
     "output_type": "stream",
     "text": [
      "    Number   Month  ActiveCases\n",
      "0        1  Feb 20            0\n",
      "1        2  Mar 20         1238\n",
      "2        3  Apr 20        24639\n",
      "3        4  May 20        93331\n",
      "4        5  Jun 20       220493\n",
      "5        6  Jul 20       564637\n",
      "6        7  Aug 20       784620\n",
      "7        8  Sep 20       940894\n",
      "8        9  Oct 20       570736\n",
      "9       10  Nov 20       436078\n",
      "10      11  Dec 20       254507\n",
      "11      12  Jan 21       169112\n",
      "12      13  Feb 21       169172\n",
      "13      14  Mar 21       584067\n",
      "14      15  Apr 21      3270089\n",
      "15      16  May 21      1885874\n",
      "16      17  Jun 21       524747\n",
      "17      18  Jul 21       417327\n"
     ]
    }
   ],
   "source": [
    "print(data)"
   ]
  },
  {
   "cell_type": "code",
   "execution_count": 4,
   "metadata": {},
   "outputs": [
    {
     "data": {
      "image/png": "[encoded data removed]",
      "text/plain": [
       "<Figure size 432x288 with 1 Axes>"
      ]
     },
     "metadata": {
      "needs_background": "light"
     },
     "output_type": "display_data"
    }
   ],
   "source": [
    "x=data.Month\n",
    "y=data.ActiveCases\n",
    "p1.title('Active Covid Cases - Linear Regression')\n",
    "p1.xlabel('Month')\n",
    "p1.ylabel('Active Cases')\n",
    "x1 = np.arange(len(x))\n",
    "p1.bar(x1,y)\n",
    "p1.xticks(x1,x,color='Black',rotation=90)\n",
    "p1.show()"
   ]
  },
  {
   "cell_type": "markdown",
   "metadata": {},
   "source": [
    "<h1>Prediction for JAN22"
   ]
  },
  {
   "cell_type": "code",
   "execution_count": 5,
   "metadata": {},
   "outputs": [
    {
     "name": "stdout",
     "output_type": "stream",
     "text": [
      "Active Case count in JAN2022 will be [1643496.09494324]\n",
      "Round off [1643497.]\n"
     ]
    }
   ],
   "source": [
    "l=linear_model.LinearRegression()\n",
    "l.fit(data[['Number']],data.ActiveCases)\n",
    "print(\"Active Case count in JAN2022 will be\",(l.predict([[24]]))) \n",
    "print(\"Round off\",np.ceil(l.predict([[24]])))\n",
    "\n"
   ]
  },
  {
   "cell_type": "code",
   "execution_count": 6,
   "metadata": {},
   "outputs": [
    {
     "name": "stdout",
     "output_type": "stream",
     "text": [
      "[71537.81114551]\n"
     ]
    }
   ],
   "source": [
    "print(l.coef_)"
   ]
  },
  {
   "cell_type": "code",
   "execution_count": 7,
   "metadata": {},
   "outputs": [
    {
     "name": "stdout",
     "output_type": "stream",
     "text": [
      "-73411.37254901929\n"
     ]
    }
   ],
   "source": [
    "print(l.intercept_)"
   ]
  },
  {
   "cell_type": "code",
   "execution_count": 8,
   "metadata": {},
   "outputs": [
    {
     "data": {
      "image/png": "[encoded data removed]",
      "text/plain": [
       "<Figure size 432x288 with 1 Axes>"
      ]
     },
     "metadata": {
      "needs_background": "light"
     },
     "output_type": "display_data"
    }
   ],
   "source": [
    "slope=l.coef_\n",
    "intercept=l.intercept_\n",
    "s=data.Number\n",
    "d=data.ActiveCases\n",
    "p1.scatter(s,d)\n",
    "p1.plot(s,slope*s+intercept,color='g')\n",
    "p1.show()\n"
   ]
  },
  {
   "cell_type": "markdown",
   "metadata": {},
   "source": [
    "<h1>Question 2"
   ]
  },
  {
   "cell_type": "markdown",
   "metadata": {},
   "source": [
    "<h1>Decision Tree Algorithm"
   ]
  },
  {
   "cell_type": "code",
   "execution_count": 9,
   "metadata": {},
   "outputs": [],
   "source": [
    "from sklearn.tree import DecisionTreeClassifier\n",
    "from sklearn import tree"
   ]
  },
  {
   "cell_type": "code",
   "execution_count": 10,
   "metadata": {},
   "outputs": [
    {
     "name": "stdout",
     "output_type": "stream",
     "text": [
      "    Road_ID  Length Number_of_bends Traffic_Volume Accident_Risk\n",
      "0         1  Medium            Less            Low            No\n",
      "1         2   Short            More            Low           Yes\n",
      "2         3  Medium            Less         Medium            No\n",
      "3         4    Long            More            Low            No\n",
      "4         5  Medium            Less           High            No\n",
      "5         6    Long            More         Medium           Yes\n",
      "6         7    Long            More            Low           Yes\n",
      "7         8  Medium            Less           High            No\n",
      "8         9  Medium            Less         Medium           Yes\n",
      "9        10    Long            More            Low            No\n",
      "10       11    Long            Less            Low            No\n",
      "11       12  Medium            More            Low            No\n",
      "12       13  Medium            Less           High           Yes\n",
      "13       14   Short            More           High           Yes\n",
      "14       15    Long            More         Medium            No\n",
      "15       16  Medium            Less            Low            No\n",
      "16       17   Short            Less         Medium           Yes\n",
      "17       18  Medium            More            Low            No\n",
      "18       19    Long            Less         Medium            No\n",
      "19       20  Medium            More            Low            No\n",
      "20       21    Long            Less           High           Yes\n",
      "21       22    Long            More         Medium           Yes\n",
      "22       23  Medium            More            Low            No\n",
      "23       24  Medium            Less           High           Yes\n",
      "24       25    Long            Less         Medium            No\n",
      "25       26    Long            More            Low            No\n",
      "26       27  Medium            Less            Low            No\n",
      "27       28  Medium            More            Low           Yes\n",
      "28       29   Short            Less           High           Yes\n",
      "29       30    Long            More           High            No\n"
     ]
    }
   ],
   "source": [
    "roaddata=pd.read_csv(\"/Users/aravinth/Desktop/Data Warehousing/Assignment 3/RoadData.csv\")\n",
    "print(roaddata)"
   ]
  },
  {
   "cell_type": "code",
   "execution_count": 11,
   "metadata": {},
   "outputs": [
    {
     "name": "stdout",
     "output_type": "stream",
     "text": [
      "    Road_ID  Length Number_of_bends  Traffic_Volume Accident_Risk\n",
      "0         1  Medium            Less               0            No\n",
      "1         2   Short            More               0           Yes\n",
      "2         3  Medium            Less               1            No\n",
      "3         4    Long            More               0            No\n",
      "4         5  Medium            Less               2            No\n",
      "5         6    Long            More               1           Yes\n",
      "6         7    Long            More               0           Yes\n",
      "7         8  Medium            Less               2            No\n",
      "8         9  Medium            Less               1           Yes\n",
      "9        10    Long            More               0            No\n",
      "10       11    Long            Less               0            No\n",
      "11       12  Medium            More               0            No\n",
      "12       13  Medium            Less               2           Yes\n",
      "13       14   Short            More               2           Yes\n",
      "14       15    Long            More               1            No\n",
      "15       16  Medium            Less               0            No\n",
      "16       17   Short            Less               1           Yes\n",
      "17       18  Medium            More               0            No\n",
      "18       19    Long            Less               1            No\n",
      "19       20  Medium            More               0            No\n",
      "20       21    Long            Less               2           Yes\n",
      "21       22    Long            More               1           Yes\n",
      "22       23  Medium            More               0            No\n",
      "23       24  Medium            Less               2           Yes\n",
      "24       25    Long            Less               1            No\n",
      "25       26    Long            More               0            No\n",
      "26       27  Medium            Less               0            No\n",
      "27       28  Medium            More               0           Yes\n",
      "28       29   Short            Less               2           Yes\n",
      "29       30    Long            More               2            No\n"
     ]
    }
   ],
   "source": [
    "y={'Low':0,'Medium':1,'High':2}\n",
    "roaddata['Traffic_Volume']=roaddata['Traffic_Volume'].map(y)\n",
    "print(roaddata)"
   ]
  },
  {
   "cell_type": "code",
   "execution_count": 12,
   "metadata": {},
   "outputs": [
    {
     "name": "stdout",
     "output_type": "stream",
     "text": [
      "    Road_ID  Length Number_of_bends  Traffic_Volume Accident_Risk\n",
      "0         1       1            Less               0            No\n",
      "1         2       0            More               0           Yes\n",
      "2         3       1            Less               1            No\n",
      "3         4       2            More               0            No\n",
      "4         5       1            Less               2            No\n",
      "5         6       2            More               1           Yes\n",
      "6         7       2            More               0           Yes\n",
      "7         8       1            Less               2            No\n",
      "8         9       1            Less               1           Yes\n",
      "9        10       2            More               0            No\n",
      "10       11       2            Less               0            No\n",
      "11       12       1            More               0            No\n",
      "12       13       1            Less               2           Yes\n",
      "13       14       0            More               2           Yes\n",
      "14       15       2            More               1            No\n",
      "15       16       1            Less               0            No\n",
      "16       17       0            Less               1           Yes\n",
      "17       18       1            More               0            No\n",
      "18       19       2            Less               1            No\n",
      "19       20       1            More               0            No\n",
      "20       21       2            Less               2           Yes\n",
      "21       22       2            More               1           Yes\n",
      "22       23       1            More               0            No\n",
      "23       24       1            Less               2           Yes\n",
      "24       25       2            Less               1            No\n",
      "25       26       2            More               0            No\n",
      "26       27       1            Less               0            No\n",
      "27       28       1            More               0           Yes\n",
      "28       29       0            Less               2           Yes\n",
      "29       30       2            More               2            No\n"
     ]
    }
   ],
   "source": [
    "c={'Short':0,'Medium':1,'Long':2}\n",
    "roaddata['Length']=roaddata['Length'].map(c)\n",
    "print(roaddata)"
   ]
  },
  {
   "cell_type": "code",
   "execution_count": 13,
   "metadata": {},
   "outputs": [
    {
     "name": "stdout",
     "output_type": "stream",
     "text": [
      "    Road_ID  Length  Number_of_bends  Traffic_Volume Accident_Risk\n",
      "0         1       1                0               0            No\n",
      "1         2       0                1               0           Yes\n",
      "2         3       1                0               1            No\n",
      "3         4       2                1               0            No\n",
      "4         5       1                0               2            No\n",
      "5         6       2                1               1           Yes\n",
      "6         7       2                1               0           Yes\n",
      "7         8       1                0               2            No\n",
      "8         9       1                0               1           Yes\n",
      "9        10       2                1               0            No\n",
      "10       11       2                0               0            No\n",
      "11       12       1                1               0            No\n",
      "12       13       1                0               2           Yes\n",
      "13       14       0                1               2           Yes\n",
      "14       15       2                1               1            No\n",
      "15       16       1                0               0            No\n",
      "16       17       0                0               1           Yes\n",
      "17       18       1                1               0            No\n",
      "18       19       2                0               1            No\n",
      "19       20       1                1               0            No\n",
      "20       21       2                0               2           Yes\n",
      "21       22       2                1               1           Yes\n",
      "22       23       1                1               0            No\n",
      "23       24       1                0               2           Yes\n",
      "24       25       2                0               1            No\n",
      "25       26       2                1               0            No\n",
      "26       27       1                0               0            No\n",
      "27       28       1                1               0           Yes\n",
      "28       29       0                0               2           Yes\n",
      "29       30       2                1               2            No\n"
     ]
    }
   ],
   "source": [
    "t={'Less':0,'More':1}\n",
    "roaddata['Number_of_bends']=roaddata['Number_of_bends'].map(t)\n",
    "print(roaddata)"
   ]
  },
  {
   "cell_type": "markdown",
   "metadata": {},
   "source": [
    "<h1>Training Dataset"
   ]
  },
  {
   "cell_type": "code",
   "execution_count": 14,
   "metadata": {},
   "outputs": [
    {
     "name": "stdout",
     "output_type": "stream",
     "text": [
      "    Length  Number_of_bends  Traffic_Volume\n",
      "0        1                0               0\n",
      "1        0                1               0\n",
      "2        1                0               1\n",
      "3        2                1               0\n",
      "4        1                0               2\n",
      "5        2                1               1\n",
      "6        2                1               0\n",
      "7        1                0               2\n",
      "8        1                0               1\n",
      "9        2                1               0\n",
      "10       2                0               0\n",
      "11       1                1               0\n",
      "12       1                0               2\n",
      "13       0                1               2\n",
      "14       2                1               1\n",
      "15       1                0               0\n",
      "16       0                0               1\n",
      "17       1                1               0\n",
      "18       2                0               1\n",
      "19       1                1               0\n",
      "20       2                0               2\n",
      "21       2                1               1\n",
      "22       1                1               0\n",
      "23       1                0               2\n",
      "24       2                0               1\n",
      "25       2                1               0\n",
      "26       1                0               0\n",
      "27       1                1               0\n",
      "28       0                0               2\n",
      "29       2                1               2\n",
      "0      No\n",
      "1     Yes\n",
      "2      No\n",
      "3      No\n",
      "4      No\n",
      "5     Yes\n",
      "6     Yes\n",
      "7      No\n",
      "8     Yes\n",
      "9      No\n",
      "10     No\n",
      "11     No\n",
      "12    Yes\n",
      "13    Yes\n",
      "14     No\n",
      "15     No\n",
      "16    Yes\n",
      "17     No\n",
      "18     No\n",
      "19     No\n",
      "20    Yes\n",
      "21    Yes\n",
      "22     No\n",
      "23    Yes\n",
      "24     No\n",
      "25     No\n",
      "26     No\n",
      "27    Yes\n",
      "28    Yes\n",
      "29     No\n",
      "Name: Accident_Risk, dtype: object\n"
     ]
    }
   ],
   "source": [
    "train=['Length','Number_of_bends','Traffic_Volume']\n",
    "x=roaddata[train]\n",
    "y=roaddata['Accident_Risk']\n",
    "print(x)\n",
    "print(y)\n"
   ]
  },
  {
   "cell_type": "code",
   "execution_count": 15,
   "metadata": {},
   "outputs": [],
   "source": [
    "d1=DecisionTreeClassifier()\n",
    "d1=d1.fit(x,y)"
   ]
  },
  {
   "cell_type": "markdown",
   "metadata": {},
   "source": [
    "<h1>Prediction for Accident Risk"
   ]
  },
  {
   "cell_type": "code",
   "execution_count": 16,
   "metadata": {},
   "outputs": [
    {
     "name": "stdout",
     "output_type": "stream",
     "text": [
      "['Yes']\n"
     ]
    }
   ],
   "source": [
    "z=d1.predict([[0,1,1]])\n",
    "print(z)"
   ]
  },
  {
   "cell_type": "code",
   "execution_count": 17,
   "metadata": {},
   "outputs": [
    {
     "name": "stdout",
     "output_type": "stream",
     "text": [
      "['No']\n"
     ]
    }
   ],
   "source": [
    "\n",
    "z1=d1.predict([[2,0,1]])\n",
    "print(z1)"
   ]
  },
  {
   "cell_type": "code",
   "execution_count": 18,
   "metadata": {},
   "outputs": [
    {
     "name": "stdout",
     "output_type": "stream",
     "text": [
      "['Yes']\n"
     ]
    }
   ],
   "source": [
    "z2=d1.predict([[2,0,2]])\n",
    "print(z2)"
   ]
  },
  {
   "cell_type": "code",
   "execution_count": 19,
   "metadata": {},
   "outputs": [
    {
     "data": {
      "text/plain": [
       "[Text(115.8923076923077, 199.32, 'X[0] <= 0.5\\ngini = 0.48\\nsamples = 30\\nvalue = [18, 12]'),\n",
       " Text(90.13846153846154, 163.07999999999998, 'gini = 0.0\\nsamples = 4\\nvalue = [0, 4]'),\n",
       " Text(141.64615384615385, 163.07999999999998, 'X[2] <= 0.5\\ngini = 0.426\\nsamples = 26\\nvalue = [18, 8]'),\n",
       " Text(51.50769230769231, 126.83999999999999, 'X[1] <= 0.5\\ngini = 0.26\\nsamples = 13\\nvalue = [11, 2]'),\n",
       " Text(25.753846153846155, 90.6, 'gini = 0.0\\nsamples = 4\\nvalue = [4, 0]'),\n",
       " Text(77.26153846153846, 90.6, 'X[0] <= 1.5\\ngini = 0.346\\nsamples = 9\\nvalue = [7, 2]'),\n",
       " Text(51.50769230769231, 54.359999999999985, 'gini = 0.32\\nsamples = 5\\nvalue = [4, 1]'),\n",
       " Text(103.01538461538462, 54.359999999999985, 'gini = 0.375\\nsamples = 4\\nvalue = [3, 1]'),\n",
       " Text(231.7846153846154, 126.83999999999999, 'X[2] <= 1.5\\ngini = 0.497\\nsamples = 13\\nvalue = [7, 6]'),\n",
       " Text(180.27692307692308, 90.6, 'X[1] <= 0.5\\ngini = 0.49\\nsamples = 7\\nvalue = [4, 3]'),\n",
       " Text(154.52307692307693, 54.359999999999985, 'X[0] <= 1.5\\ngini = 0.375\\nsamples = 4\\nvalue = [3, 1]'),\n",
       " Text(128.76923076923077, 18.119999999999976, 'gini = 0.5\\nsamples = 2\\nvalue = [1, 1]'),\n",
       " Text(180.27692307692308, 18.119999999999976, 'gini = 0.0\\nsamples = 2\\nvalue = [2, 0]'),\n",
       " Text(206.03076923076924, 54.359999999999985, 'gini = 0.444\\nsamples = 3\\nvalue = [1, 2]'),\n",
       " Text(283.2923076923077, 90.6, 'X[1] <= 0.5\\ngini = 0.5\\nsamples = 6\\nvalue = [3, 3]'),\n",
       " Text(257.53846153846155, 54.359999999999985, 'X[0] <= 1.5\\ngini = 0.48\\nsamples = 5\\nvalue = [2, 3]'),\n",
       " Text(231.7846153846154, 18.119999999999976, 'gini = 0.5\\nsamples = 4\\nvalue = [2, 2]'),\n",
       " Text(283.2923076923077, 18.119999999999976, 'gini = 0.0\\nsamples = 1\\nvalue = [0, 1]'),\n",
       " Text(309.04615384615386, 54.359999999999985, 'gini = 0.0\\nsamples = 1\\nvalue = [1, 0]')]"
      ]
     },
     "execution_count": 19,
     "metadata": {},
     "output_type": "execute_result"
    },
    {
     "data": {
      "image/png": "[encoded data removed]",
      "text/plain": [
       "<Figure size 432x288 with 1 Axes>"
      ]
     },
     "metadata": {
      "needs_background": "light"
     },
     "output_type": "display_data"
    }
   ],
   "source": [
    "tree.plot_tree(d1)"
   ]
  },
  {
   "cell_type": "markdown",
   "metadata": {},
   "source": [
    "<h1>Question 3"
   ]
  },
  {
   "cell_type": "markdown",
   "metadata": {},
   "source": [
    "<h1>The Naïve Bayes Classification Algorithm"
   ]
  },
  {
   "cell_type": "code",
   "execution_count": 20,
   "metadata": {},
   "outputs": [],
   "source": [
    "from sklearn import preprocessing\n",
    "from sklearn.model_selection import train_test_split\n",
    "from sklearn.preprocessing import StandardScaler\n",
    "from sklearn.naive_bayes import GaussianNB\n",
    "from sklearn.metrics import confusion_matrix,accuracy_score"
   ]
  },
  {
   "cell_type": "code",
   "execution_count": 21,
   "metadata": {},
   "outputs": [],
   "source": [
    "patientdata=pd.read_csv(\"/Users/aravinth/Desktop/Data Warehousing/Assignment 4/PatientData.csv\")"
   ]
  },
  {
   "cell_type": "code",
   "execution_count": 22,
   "metadata": {},
   "outputs": [
    {
     "name": "stdout",
     "output_type": "stream",
     "text": [
      "            Name  Gender  Weight   BMI    Condition Strict_Diet\n",
      "0        Pranauv    Male      60  19.3      Healthy          No\n",
      "1   Purusothaman    Male      63  18.0  Underweight         Yes\n",
      "2          Shyam    Male      55  17.0  Underweight         Yes\n",
      "3         Nithin    Male      80  28.0    Oveweight         Yes\n",
      "4          Rohit    Male      70  22.0      Healthy          No\n",
      "5       Aravinth    Male      50  17.5  Underweight         Yes\n",
      "6         Barani    Male      60  20.0      Healthy          No\n",
      "7        Niketha  Female      60  21.0      Healthy          No\n",
      "8       Krithiik    Male      60  26.0    Oveweight         Yes\n",
      "9     Kumaaravel    Male      80  27.0    Oveweight         Yes\n",
      "10       Abishek    Male      85  26.5   Overweight         Yes\n",
      "11        Aneesh    Male      90  32.0        Obese         Yes\n",
      "12          Ajay    Male      70  23.0      Healthy          No\n",
      "13          Babu    Male      53  19.2      Healthy          No\n",
      "14     Dhiyanesh    Male      54  16.0  Underweight         Yes\n",
      "15       Praveen    Male      65  22.0      Healthy          No\n",
      "16        Vishnu    Male      60  24.0      Healthy          No\n",
      "17          Bala    Male      45  17.0  Underweight         Yes\n",
      "18        Naveen    Male      70  24.0      Healthy          No\n",
      "19          Siva    Male      60  20.0      Healthy          No\n",
      "20     Prashanth    Male      65  22.0      Healthy          No\n",
      "21         Robin    Male      55  16.0  Underweight         Yes\n",
      "22        Sakthi    Male      60  22.0      Healthy          No\n",
      "23      Santhosh    Male      60  21.0      Healthy          No\n",
      "24        Farhan    Male      65  26.0   Overweight         Yes\n"
     ]
    }
   ],
   "source": [
    "label=preprocessing.LabelEncoder()\n",
    "x=patientdata.iloc[:,[1,2,3]].values\n",
    "y=patientdata.iloc[:,[-1]].values.flatten()\n",
    "print(patientdata)"
   ]
  },
  {
   "cell_type": "code",
   "execution_count": 23,
   "metadata": {},
   "outputs": [],
   "source": [
    "x[:,0]=label.fit_transform(x[:,0])\n",
    "x_train, x_test, y_train, y_test = train_test_split(x, y, test_size=0.2, random_state=0)"
   ]
  },
  {
   "cell_type": "code",
   "execution_count": 24,
   "metadata": {},
   "outputs": [],
   "source": [
    "sc=StandardScaler()\n",
    "x_train=sc.fit_transform(x_train)\n",
    "x_test=sc.transform(x_test)"
   ]
  },
  {
   "cell_type": "code",
   "execution_count": 25,
   "metadata": {},
   "outputs": [
    {
     "data": {
      "text/plain": [
       "GaussianNB()"
      ]
     },
     "execution_count": 25,
     "metadata": {},
     "output_type": "execute_result"
    }
   ],
   "source": [
    "classifier=GaussianNB()\n",
    "classifier.fit(x_train,y_train)"
   ]
  },
  {
   "cell_type": "code",
   "execution_count": 26,
   "metadata": {},
   "outputs": [
    {
     "name": "stdout",
     "output_type": "stream",
     "text": [
      "['Yes' 'Yes' 'Yes' 'Yes' 'Yes']\n"
     ]
    }
   ],
   "source": [
    "y_pred=classifier.predict(x_test)\n",
    "print(y_pred)"
   ]
  },
  {
   "cell_type": "code",
   "execution_count": 27,
   "metadata": {},
   "outputs": [
    {
     "name": "stdout",
     "output_type": "stream",
     "text": [
      "Confusion Matrix is\n",
      "[[0 2]\n",
      " [0 3]]\n",
      "Accuracy Score is 0.6\n"
     ]
    }
   ],
   "source": [
    "con=confusion_matrix(y_test,y_pred)\n",
    "acc=accuracy_score(y_test,y_pred)\n",
    "print(\"Confusion Matrix is\")\n",
    "print(con)\n",
    "print(\"Accuracy Score is\",acc)"
   ]
  }
 ],
 "metadata": {
  "interpreter": {
   "hash": "aee8b7b246df8f9039afb4144a1f6fd8d2ca17a180786b69acc140d282b71a49"
  },
  "kernelspec": {
   "display_name": "Python 3.9.6 64-bit",
   "name": "python3"
  },
  "language_info": {
   "codemirror_mode": {
    "name": "ipython",
    "version": 3
   },
   "file_extension": ".py",
   "mimetype": "text/x-python",
   "name": "python",
   "nbconvert_exporter": "python",
   "pygments_lexer": "ipython3",
   "version": "3.9.6"
  },
  "orig_nbformat": 4
 },
 "nbformat": 4,
 "nbformat_minor": 2
}
